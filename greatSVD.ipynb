{
 "cells": [
  {
   "cell_type": "markdown",
   "id": "ededf709-a58f-4647-b36a-737b698422be",
   "metadata": {},
   "source": [
    "# Computational Linear Algebra\n",
    "## A great project on Singular Value Decomposition\n",
    "\n",
    "### by Paul, Placida, and Sean\n",
    "\n",
    "## Know your audience\n",
    "- Third year students with a prior course in linear algebra\n",
    "- Prior exposure to programming recommended but not required\n",
    "- In person; we are going to tell ourselves that it's an active learning class\n",
    "- LMS agnostic\n",
    "- Access to Syzygy assumed\n",
    "\n",
    "## Big Ideas and Essential Questions\n",
    "- Main idea: Singular Value Decomposition is a very stable and fast algorithm with many applications in both math and industry, and it works with **any** matrix\n",
    "- Core understanding -- the decomposition provides us with lots of useful information:\n",
    "     - Four fundamental subspaces\n",
    "     - Rank\n",
    "     - Norm of a matrix\n",
    "     - Condition number: how changes in matrix entries can affect solutions\n",
    "     - Pseudoinverse, least squares\n",
    "     - Principal component analysis\n",
    "- Basic understanding: singular values are usually not nice: this is a numerical algorithm\n",
    "- Essential questions:\n",
    "     - How to compute it!\n",
    "     - How to use SVD to obtain all the information listed above\n",
    "\n",
    "## Learning goals\n",
    "- How to implement SVD in Python using NumPy\n",
    "- Relationship between singular values and eigenvalues\n",
    "- To be able to prove the SVD theorem\n",
    "- What is so fundamental about the four fundamental subspaces?\n",
    "- Why is SVD the right way to compute rank?\n",
    "- How to apply the pseudoinverse to least squares solutions\n",
    "- Geometric interpretation of singular values\n",
    "\n",
    "## Learning plan\n",
    "- Walk through the steps of the SVD algorithm in an example\n",
    "- Confirm that the results match what the built-in algorithm produces\n",
    "- Try the algorithm on a few more examples\n",
    "- Define the four fundamental subspaces, show how to find them from SVD\n",
    "- Do examples and confirm that SVD gives the same nullspace as \"old\" methods\n",
    "- Also use SVD to determine rank in these examples\n",
    "- Introduce pseudoinverse and have students work through an example\n",
    "\n",
    "## Notebook design\n",
    "- Code examples provided\n",
    "- Ensure students understand how to interpret output by comparing algorithm output to initial worked example\n",
    "- Students expected to modify/copy code for their own examples"
   ]
  },
  {
   "cell_type": "code",
   "execution_count": null,
   "id": "8ed0de22-6840-4310-b583-77778a69706b",
   "metadata": {},
   "outputs": [],
   "source": []
  }
 ],
 "metadata": {
  "kernelspec": {
   "display_name": "Python 3 (ipykernel)",
   "language": "python",
   "name": "python3"
  },
  "language_info": {
   "codemirror_mode": {
    "name": "ipython",
    "version": 3
   },
   "file_extension": ".py",
   "mimetype": "text/x-python",
   "name": "python",
   "nbconvert_exporter": "python",
   "pygments_lexer": "ipython3",
   "version": "3.12.8"
  }
 },
 "nbformat": 4,
 "nbformat_minor": 5
}
