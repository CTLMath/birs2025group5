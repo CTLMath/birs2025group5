{
 "cells": [
  {
   "cell_type": "markdown",
   "id": "ededf709-a58f-4647-b36a-737b698422be",
   "metadata": {},
   "source": [
    "# Computational Linear Algebra\n",
    "## A great project on Singular Value Decomposition\n",
    "\n",
    "### by Paul, Placida, and Sean\n",
    "\n",
    "## Know your audience\n",
    "- Third year students with a prior course in linear algebra\n",
    "- Prior exposure to programming recommended but not required\n",
    "- In person; we are going to tell ourselves that it's an active learning class\n",
    "- LMS agnostic\n",
    "- Access to Syzygy assumed\n",
    "\n",
    "## Big Ideas and Essential Questions\n",
    "- Main idea: Singular Value Decomposition is a very stable and fast algorithm with many applications in both math and industry, and it works with **any** matrix\n",
    "- Core understanding -- the decomposition provides us with lots of useful information:\n",
    "     - Four fundamental subspaces\n",
    "     - Rank\n",
    "     - Norm of a matrix\n",
    "     - Condition number: how changes in matrix entries can affect solutions\n",
    "     - Pseudoinverse, least squares\n",
    "     - Principal component analysis\n",
    "- Basic understanding: singular values are usually not nice: this is a numerical algorithm\n",
    "- Essential questions:\n",
    "     - How to compute it!\n",
    "     - How to use SVD to obtain all the information listed above\n",
    "\n",
    "## Learning goals\n",
    "- How to implement SVD in Python using NumPy\n",
    "- Relationship between singular values and eigenvalues\n",
    "- To be able to prove the SVD theorem\n",
    "- What is so fundamental about the four fundamental subspaces?\n",
    "- Why is SVD the right way to compute rank?\n",
    "- How to apply the pseudoinverse to least squares solutions\n",
    "- Geometric interpretation of singular values\n",
    "\n",
    "## Learning plan\n",
    "- Walk through the steps of the SVD algorithm in an example\n",
    "- Confirm that the results match what the built-in algorithm produces\n",
    "- Try the algorithm on a few more examples\n",
    "- Define the four fundamental subspaces, show how to find them from SVD\n",
    "- Do examples and confirm that SVD gives the same nullspace as \"old\" methods\n",
    "- Also use SVD to determine rank in these examples\n",
    "- Introduce pseudoinverse and have students work through an example\n",
    "\n",
    "## Notebook design\n",
    "- Code examples provided\n",
    "- Ensure students understand how to interpret output by comparing algorithm output to initial worked example\n",
    "- Students expected to modify/copy code for their own examples"
   ]
  },
  {
   "cell_type": "markdown",
   "id": "a57dffaa-50af-4592-a2d8-e30a37a8b627",
   "metadata": {},
   "source": [
    "# The Singular Value Decomposition\n",
    "\n",
    "For any $m\\times n$ matrix $A\\text{,}$ the matrices $A^TA$ and $AA^T$ are both positive. (Exercise!) This means that we can define $\\sqrt{A^TA}\\text{,}$ even if $A$ itself is not symmetric or positive.\n",
    "\n",
    "- Since $A^TA$ is symmetric, we know that it can be diagonalized.\n",
    "- Since $A^TA$ is positive, we know its eigenvalues are non-negative.\n",
    "- This means we can define the singular values $\\sigma_i = \\sqrt{\\lambda_i}$ for each $i=1,\\ldots, n$.\n",
    "- This works even if $A$ is not a square matrix!\n",
    "\n",
    "The singular value decomposition has the form\n",
    "\n",
    "$$A = P\\Sigma_A Q^T,$$\n",
    "\n",
    "where $\\Sigma_A$ is a matrix containing the singular values of $A$. There are two conventions:\n",
    "1. $\\Sigma_A$ has the same size as $A$, and the upper-left corner is block-diagonal, with diagonal entries given by the singular values of $A$.\n",
    "2. $\\Sigma_A$ is truncated to include only the diagonal matrix of singular values.\n",
    "\n",
    "The sizes of $P$ and $Q$ depend on which convention we choose. The algorithm in `NumPy` gives the full matrices $P$ and $Q$, but does not give $\\Sigma_A$; it only lists the singular values.\n",
    "\n",
    "## 1. Initial example\n",
    "\n",
    "Let $A = \\begin{bmatrix}1&0&1\\\\0&1&2\\end{bmatrix}$. Compute $A^TA$, and find the singular values of $A$ by determining the eigenvalues of $A^TA$.\n",
    "\n",
    "First, let's load the required libraries."
   ]
  },
  {
   "cell_type": "code",
   "execution_count": null,
   "id": "4308b5ad-77f0-4da9-8962-feeb4195d6e3",
   "metadata": {},
   "outputs": [],
   "source": [
    "import numpy as np\n",
    "import scipy.linalg as la"
   ]
  },
  {
   "cell_type": "markdown",
   "id": "75d343bb-8682-43a7-a6e3-2b2ea099127d",
   "metadata": {},
   "source": [
    "Next, let's define our matrix $A$ as a NumPy array, and compute $B=A^TA$."
   ]
  },
  {
   "cell_type": "code",
   "execution_count": null,
   "id": "4c5cce27-2a11-4645-8911-128e46e15b90",
   "metadata": {},
   "outputs": [],
   "source": [
    "A = np.array([[1,0,1],[0,1,2]])\n",
    "B = (A.T)@A\n",
    "print(A)\n",
    "print(B)"
   ]
  },
  {
   "cell_type": "markdown",
   "id": "87c7db8f-d38a-4466-a7bd-3a2a4f97f36a",
   "metadata": {},
   "source": [
    "Next, let's find the eigenvalues of $B$."
   ]
  },
  {
   "cell_type": "code",
   "execution_count": null,
   "id": "5e6bf060-0d51-4fa2-9e09-1fa8ebe01b79",
   "metadata": {},
   "outputs": [],
   "source": [
    "eigvals = la.eig(B)[0].real\n",
    "print(eigvals)"
   ]
  },
  {
   "cell_type": "markdown",
   "id": "4af75593-9ebf-424f-89b2-3a2854386433",
   "metadata": {},
   "source": [
    "It looks like our eigenvalues are $6, 1$ and $0$. Now, let's get the singular values."
   ]
  },
  {
   "cell_type": "code",
   "execution_count": null,
   "id": "a056bd52-b647-4bf0-b5b4-bee77da766ea",
   "metadata": {},
   "outputs": [],
   "source": [
    "singvals = []\n",
    "for ev in eigvals:\n",
    "    singvals.append(np.sqrt(ev))\n",
    "print(singvals)"
   ]
  },
  {
   "cell_type": "markdown",
   "id": "28d30e5d-5a40-4b42-b9d8-b0c42b841d23",
   "metadata": {},
   "source": [
    "The matrix $Q$ is an orthogonal $n\\times n$ matrix whose columns are an orthonormal basis of eigenvectors for $A^TA\\text{.}$ The matrix $P$ is an orthogonal $m\\times m$ matrix whose columns are an orthonormal basis of $\\mathbb{R}^m\\text{.}$ (The first $r$ columns of $P$ are given by $A\\mathbf{q}_i\\text{,}$ where $\\mathbf{q}_i$ is the eigenvector of $A^TA$ corresponding to the positive singular value $\\sigma_i\\text{.}$)\n",
    "\n",
    "First, let's get the eigenvectors."
   ]
  },
  {
   "cell_type": "code",
   "execution_count": null,
   "id": "0e60acdd-bd86-4fa2-8e1a-6ec600b75a59",
   "metadata": {},
   "outputs": [],
   "source": [
    "eigvects = la.eig(B)[1].real\n",
    "print(eigvects)"
   ]
  },
  {
   "cell_type": "markdown",
   "id": "d6c559cc-8996-4ece-ac68-dc99fd0796a9",
   "metadata": {},
   "source": [
    "The columns of this matrix are the eigenvectors of $A^TA$. Since $A^TA$ is symmetric, we know that these eigenvectors are orthogonal; by default, the `la.eig` command produces unit vectors, so we can proceed directly to forming the matrix $Q$. In fact, we don't have to proceed anywhere. This **is** the matrix $Q$!"
   ]
  },
  {
   "cell_type": "code",
   "execution_count": null,
   "id": "7fcbdcb9-7f92-42c8-b651-7c1274784069",
   "metadata": {},
   "outputs": [],
   "source": [
    "Q = eigvects"
   ]
  },
  {
   "cell_type": "markdown",
   "id": "5cad7f75-97f9-4ce9-8e12-dd64f43fc43a",
   "metadata": {},
   "source": [
    "For later reference, we want to extract the eigenvectors, which are the columns of $Q$. The command `Q[:,i]` will extract column `i`, but it will extract it as a row vector, so we also need to reshape it as a column. We do this as follows:"
   ]
  },
  {
   "cell_type": "code",
   "execution_count": null,
   "id": "fa9a0ac4-7bf5-4264-8709-4ca69d3b6ee7",
   "metadata": {},
   "outputs": [],
   "source": [
    "q1 = Q[:,0].reshape(3,1)\n",
    "q2 = Q[:,1].reshape(3,1)\n",
    "q3 = Q[:,2].reshape(3,1)"
   ]
  },
  {
   "cell_type": "markdown",
   "id": "0a57544f-09a2-4938-bb7f-8c596b2adb70",
   "metadata": {},
   "source": [
    "Next, we want to construct the matrix $P$. The columns of $P$ are eigenvectors of $AA^T$, so we proceed as above."
   ]
  },
  {
   "cell_type": "code",
   "execution_count": null,
   "id": "24598263-a5a4-4aac-86b0-12287c7f026c",
   "metadata": {},
   "outputs": [],
   "source": [
    "C = A@(A.T)\n",
    "Ceval,Cevec = la.eig(C)"
   ]
  },
  {
   "cell_type": "code",
   "execution_count": null,
   "id": "b5d33199-084a-4838-984c-ed4beb853c06",
   "metadata": {},
   "outputs": [],
   "source": [
    "P = Cevec\n",
    "print(P)"
   ]
  },
  {
   "cell_type": "markdown",
   "id": "38b0a595-2f86-4097-aeaf-41fd373de840",
   "metadata": {},
   "source": [
    "Note: we want the columns in order of decreasing eigenvalue, so we had to swap the order of the eigenvectors above.\n",
    "\n",
    "We want to see if this works! We're going to check two things:\n",
    "1. Whether or not $P\\Sigma_AQ^T$ is equal to $A$\n",
    "2. If the results we found here agree with the built in `np.svd` command.\n",
    "\n",
    "First, we need to construct $\\Sigma_A$. Let's just do that by hand."
   ]
  },
  {
   "cell_type": "code",
   "execution_count": null,
   "id": "061cb1e0-20f3-4204-8138-5932a4132a7d",
   "metadata": {},
   "outputs": [],
   "source": [
    "sigA = np.array([[singvals[0],0,0],[0,singvals[1],0]])\n",
    "print(sigA)"
   ]
  },
  {
   "cell_type": "code",
   "execution_count": null,
   "id": "cd0cf4a8-449c-4165-bb55-44181e00e458",
   "metadata": {},
   "outputs": [],
   "source": [
    "P@sigA@Q.T"
   ]
  },
  {
   "cell_type": "markdown",
   "id": "9b598608-0b3c-4ae3-bfc6-13a5397273dd",
   "metadata": {},
   "source": [
    "It didn't work! Two things could have gone wrong. First, we need to ensure that the order of our eigenvectors for both $P$ and $Q$ is consistent with the decreasing order of singular values. Let's check how the eigenvalues are ordered for $P$."
   ]
  },
  {
   "cell_type": "code",
   "execution_count": null,
   "id": "1bdf19df-48ef-4309-abda-11ce90b91e1f",
   "metadata": {},
   "outputs": [],
   "source": [
    "print(Ceval.real)"
   ]
  },
  {
   "cell_type": "markdown",
   "id": "60f7ddff-9106-4635-8b92-5e1e26f3a401",
   "metadata": {},
   "source": [
    "Oh, dang! Our vectors were in the wrong order! Let's look at the eigenvectors again."
   ]
  },
  {
   "cell_type": "code",
   "execution_count": null,
   "id": "7177d558-f72d-4ace-ae77-20609ab5c56d",
   "metadata": {},
   "outputs": [],
   "source": [
    "print(Cevec.real)"
   ]
  },
  {
   "cell_type": "markdown",
   "id": "ace23d16-cb80-4a99-9a4f-1ef2ae925650",
   "metadata": {},
   "source": [
    "Can we swap the columns without manually writing out the entries? Swapping rows is easy, so let's try this: transpose, to turn columns into rows, then, swap rows, and then, transpose back."
   ]
  },
  {
   "cell_type": "code",
   "execution_count": null,
   "id": "840827f5-df22-41e0-ab72-6e5f01a5741d",
   "metadata": {},
   "outputs": [],
   "source": [
    "Cevec2 = Cevec.T\n",
    "Cevec3 = np.array([Cevec2[1],Cevec2[0]])\n",
    "Cevec4 = Cevec3.T\n",
    "print(Cevec4)"
   ]
  },
  {
   "cell_type": "markdown",
   "id": "1018c60c-7173-40b7-876b-6c245bd7b7d2",
   "metadata": {},
   "source": [
    "Success! Now, let's see if we get back the matrix $A$."
   ]
  },
  {
   "cell_type": "code",
   "execution_count": null,
   "id": "52b55ba3-d446-437e-81e1-1467d0177d08",
   "metadata": {},
   "outputs": [],
   "source": [
    "P = Cevec4\n",
    "print(P@sigA@Q.T)\n",
    "print(np.round(P@sigA@Q.T))"
   ]
  },
  {
   "cell_type": "markdown",
   "id": "72e2776f-8179-4c3e-a868-459f40b51915",
   "metadata": {},
   "source": [
    "Hooray!!!! It worked! But there is one other thing that could go wrong: each eigenvector is determined only up to sign. Change the signs on one column, and you might not get back your matrix. How can we make sure everything matches up?"
   ]
  },
  {
   "cell_type": "markdown",
   "id": "802d7d69-4bed-4528-9007-b40b16e76de6",
   "metadata": {},
   "source": [
    "### Alternative construction of $P$\n",
    "\n",
    "Following the text by Keith Nicholson, we get the columns of $P$ using the formula\n",
    "$$p_i = \\frac{1}{\\lVert Aqi\\rVert}q_i,$$\n",
    "where $p_i,q_i$ represent the $i$th columns of $P$ and $Q$, respectively.\n",
    "\n",
    "Earlier, we turned the eigenvectors of $A^TA$ into column vectors called `q1,q2,q3`. The first two of these correspond to the non-zero singular values. Let's multiply them by $A$, and then normalize."
   ]
  },
  {
   "cell_type": "code",
   "execution_count": null,
   "id": "1dc3062c-844c-4de6-b166-f4d4648d9a4e",
   "metadata": {},
   "outputs": [],
   "source": [
    "p1 = A@q1\n",
    "p2 = A@q2\n",
    "print(p1)\n",
    "print(p2)"
   ]
  },
  {
   "cell_type": "code",
   "execution_count": null,
   "id": "5dcd7379-6648-4449-9beb-8a34c481d085",
   "metadata": {},
   "outputs": [],
   "source": [
    "p1n = (1/np.linalg.norm(p1))*p1\n",
    "p2n = (1/np.linalg.norm(p2))*p2\n",
    "print(p1n)\n",
    "print(p2n)"
   ]
  },
  {
   "cell_type": "markdown",
   "id": "7f1040b7-cdc4-4cf3-b16f-cea101ac696b",
   "metadata": {},
   "source": [
    "We could reshape these into rows, put them into an `np.array`, and then take the transpose.\n",
    "Or, we could take advantage of the `hstack` function:"
   ]
  },
  {
   "cell_type": "code",
   "execution_count": null,
   "id": "c6c20767-7665-42c7-9237-e34810899a62",
   "metadata": {},
   "outputs": [],
   "source": [
    "P = np.hstack((p1n,p2n))\n",
    "print(P)"
   ]
  },
  {
   "cell_type": "markdown",
   "id": "2a3e8e3c-a973-49fd-99d5-dd7b12efae77",
   "metadata": {},
   "source": [
    "That's the same matrix $P$ as before!"
   ]
  },
  {
   "cell_type": "code",
   "execution_count": null,
   "id": "a20a95ce-9d04-4b90-8dc2-ef37a42804c9",
   "metadata": {},
   "outputs": [],
   "source": []
  }
 ],
 "metadata": {
  "kernelspec": {
   "display_name": "Python 3 (ipykernel)",
   "language": "python",
   "name": "python3"
  },
  "language_info": {
   "codemirror_mode": {
    "name": "ipython",
    "version": 3
   },
   "file_extension": ".py",
   "mimetype": "text/x-python",
   "name": "python",
   "nbconvert_exporter": "python",
   "pygments_lexer": "ipython3",
   "version": "3.12.8"
  }
 },
 "nbformat": 4,
 "nbformat_minor": 5
}
