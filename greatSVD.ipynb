{
 "cells": [
  {
   "cell_type": "markdown",
   "id": "ededf709-a58f-4647-b36a-737b698422be",
   "metadata": {},
   "source": [
    "# Computational Linear Algebra\n",
    "## A great project on Singular Value Decomposition\n",
    "\n",
    "### by Paul, Placida, and Sean\n",
    "\n",
    "## Know your audience\n",
    "- Third year students with a prior course in linear algebra\n",
    "- Prior exposure to programming recommended but not required\n",
    "- In person; we are going to tell ourselves that it's an active learning class\n",
    "- LMS agnostic\n",
    "- Access to Syzygy assumed\n",
    "\n",
    "## Big Ideas and Essential Questions\n",
    "- Main idea: Singular Value Decomposition is a very stable and fast algorithm with many applications in both math and industry, and it works with **any** matrix\n",
    "- Core understanding -- the decomposition provides us with lots of useful information:\n",
    "     - Four fundamental subspaces\n",
    "     - Rank\n",
    "     - Norm of a matrix\n",
    "     - Condition number: how changes in matrix entries can affect solutions\n",
    "     - Pseudoinverse, least squares\n",
    "     - Principal component analysis\n",
    "- Basic understanding: singular values are usually not nice: this is a numerical algorithm\n",
    "- Essential questions:\n",
    "     - How to compute it!\n",
    "     - How to use SVD to obtain all the information listed above\n",
    "\n",
    "## Learning goals\n",
    "- How to implement SVD in Python using NumPy\n",
    "- Relationship between singular values and eigenvalues\n",
    "- To be able to prove the SVD theorem\n",
    "- What is so fundamental about the four fundamental subspaces?\n",
    "- Why is SVD the right way to compute rank?\n",
    "- How to apply the pseudoinverse to least squares solutions\n",
    "- Geometric interpretation of singular values\n",
    "\n",
    "## Learning plan\n",
    "- Walk through the steps of the SVD algorithm in an example\n",
    "- Confirm that the results match what the built-in algorithm produces\n",
    "- Try the algorithm on a few more examples\n",
    "- Define the four fundamental subspaces, show how to find them from SVD\n",
    "- Do examples and confirm that SVD gives the same nullspace as \"old\" methods\n",
    "- Also use SVD to determine rank in these examples\n",
    "- Introduce pseudoinverse and have students work through an example\n",
    "\n",
    "## Notebook design\n",
    "- Code examples provided\n",
    "- Ensure students understand how to interpret output by comparing algorithm output to initial worked example\n",
    "- Students expected to modify/copy code for their own examples"
   ]
  },
  {
   "cell_type": "markdown",
   "id": "a57dffaa-50af-4592-a2d8-e30a37a8b627",
   "metadata": {},
   "source": [
    "# The Singular Value Decomposition\n",
    "\n",
    "For any $m\\times n$ matrix $A\\text{,}$ the matrices $A^TA$ and $AA^T$ are both positive. (Exercise!) This means that we can define $\\sqrt{A^TA}\\text{,}$ even if $A$ itself is not symmetric or positive.\n",
    "\n",
    "- Since $A^TA$ is symmetric, we know that it can be diagonalized.\n",
    "- Since $A^TA$ is positive, we know its eigenvalues are non-negative.\n",
    "- This means we can define the singular values $\\sigma_i = \\sqrt{\\lambda_i}$ for each $i=1,\\ldots, n$.\n",
    "- This works even if $A$ is not a square matrix!\n",
    "\n",
    "The singular value decomposition has the form\n",
    "\n",
    "$$A = P\\Sigma_A Q^T,$$\n",
    "\n",
    "where $\\Sigma_A$ is a matrix containing the singular values of $A$. There are two conventions:\n",
    "1. $\\Sigma_A$ has the same size as $A$, and the upper-left corner is block-diagonal, with diagonal entries given by the singular values of $A$.\n",
    "2. $\\Sigma_A$ is truncated to include only the diagonal matrix of singular values.\n",
    "\n",
    "The sizes of $P$ and $Q$ depend on which convention we choose. The algorithm in `NumPy` gives the full matrices $P$ and $Q$, but does not give $\\Sigma_A$; it only lists the singular values.\n",
    "\n",
    "## 1. Initial example\n",
    "\n",
    "Let $A = \\begin{bmatrix}1&0&1\\\\0&1&2\\end{bmatrix}$. Compute $A^TA$, and find the singular values of $A$ by determining the eigenvalues of $A^TA$.\n",
    "\n",
    "First, let's load the required libraries."
   ]
  },
  {
   "cell_type": "code",
   "execution_count": 1,
   "id": "4308b5ad-77f0-4da9-8962-feeb4195d6e3",
   "metadata": {},
   "outputs": [],
   "source": [
    "import numpy as np\n",
    "import scipy.linalg as la"
   ]
  },
  {
   "cell_type": "markdown",
   "id": "75d343bb-8682-43a7-a6e3-2b2ea099127d",
   "metadata": {},
   "source": [
    "Next, let's define our matrix $A$ as a NumPy array, and compute $B=A^TA$."
   ]
  },
  {
   "cell_type": "code",
   "execution_count": 2,
   "id": "4c5cce27-2a11-4645-8911-128e46e15b90",
   "metadata": {},
   "outputs": [
    {
     "name": "stdout",
     "output_type": "stream",
     "text": [
      "[[1 0 1]\n",
      " [0 1 2]]\n",
      "[[1 0 1]\n",
      " [0 1 2]\n",
      " [1 2 5]]\n"
     ]
    }
   ],
   "source": [
    "A = np.array([[1,0,1],[0,1,2]])\n",
    "B = (A.T)@A\n",
    "print(A)\n",
    "print(B)"
   ]
  },
  {
   "cell_type": "markdown",
   "id": "87c7db8f-d38a-4466-a7bd-3a2a4f97f36a",
   "metadata": {},
   "source": [
    "Next, let's find the eigenvalues of $B$."
   ]
  },
  {
   "cell_type": "code",
   "execution_count": 19,
   "id": "5e6bf060-0d51-4fa2-9e09-1fa8ebe01b79",
   "metadata": {},
   "outputs": [
    {
     "name": "stdout",
     "output_type": "stream",
     "text": [
      "[6.00000000e+00 1.00000000e+00 4.59534891e-17]\n"
     ]
    }
   ],
   "source": [
    "eigvals = la.eig(B)[0].real\n",
    "print(eigvals)"
   ]
  },
  {
   "cell_type": "markdown",
   "id": "4af75593-9ebf-424f-89b2-3a2854386433",
   "metadata": {},
   "source": [
    "It looks like our eigenvalues are $6, 1$ and $0$. Now, let's get the singular values."
   ]
  },
  {
   "cell_type": "code",
   "execution_count": 20,
   "id": "a056bd52-b647-4bf0-b5b4-bee77da766ea",
   "metadata": {},
   "outputs": [
    {
     "name": "stdout",
     "output_type": "stream",
     "text": [
      "[2.449489742783178, 1.0, 6.778900286091395e-09]\n"
     ]
    }
   ],
   "source": [
    "singvals = []\n",
    "for ev in eigvals:\n",
    "    singvals.append(np.sqrt(ev))\n",
    "print(singvals)"
   ]
  },
  {
   "cell_type": "markdown",
   "id": "28d30e5d-5a40-4b42-b9d8-b0c42b841d23",
   "metadata": {},
   "source": [
    "The matrix $Q$ is an orthogonal $n\\times n$ matrix whose columns are an orthonormal basis of eigenvectors for $A^TA\\text{.}$ The matrix $P$ is an orthogonal $m\\times m$ matrix whose columns are an orthonormal basis of $\\mathbb{R}^m\\text{.}$ (The first $r$ columns of $P$ are given by $A\\mathbf{q}_i\\text{,}$ where $\\mathbf{q}_i$ is the eigenvector of $A^TA$ corresponding to the positive singular value $\\sigma_i\\text{.}$)\n",
    "\n",
    "First, let's get the eigenvectors."
   ]
  },
  {
   "cell_type": "code",
   "execution_count": 21,
   "id": "0e60acdd-bd86-4fa2-8e1a-6ec600b75a59",
   "metadata": {},
   "outputs": [
    {
     "name": "stdout",
     "output_type": "stream",
     "text": [
      "[[-1.82574186e-01 -8.94427191e-01 -4.08248290e-01]\n",
      " [-3.65148372e-01  4.47213595e-01 -8.16496581e-01]\n",
      " [-9.12870929e-01 -6.94835567e-17  4.08248290e-01]]\n"
     ]
    }
   ],
   "source": [
    "eigvects = la.eig(B)[1].real\n",
    "print(eigvects)"
   ]
  },
  {
   "cell_type": "markdown",
   "id": "d6c559cc-8996-4ece-ac68-dc99fd0796a9",
   "metadata": {},
   "source": [
    "Since $A^TA$ is symmetric, we know that these eigenvectors are orthogonal; to get an orthogonal matrix we need to normalize them."
   ]
  },
  {
   "cell_type": "code",
   "execution_count": 22,
   "id": "9f0af532-3522-485c-adf3-2d78f8a8037f",
   "metadata": {},
   "outputs": [
    {
     "name": "stdout",
     "output_type": "stream",
     "text": [
      "[array([-0.18257419, -0.89442719, -0.40824829]), array([-0.36514837,  0.4472136 , -0.81649658]), array([-9.12870929e-01, -6.94835567e-17,  4.08248290e-01])]\n"
     ]
    }
   ],
   "source": [
    "qvects = []\n",
    "for vec in eigvects:\n",
    "    qvects.append((1/np.linalg.norm(vec))*vec)\n",
    "print(qvects)"
   ]
  },
  {
   "cell_type": "code",
   "execution_count": 23,
   "id": "ee27cb18-0f18-4ba4-b7c3-b22bf2040ac0",
   "metadata": {},
   "outputs": [
    {
     "name": "stdout",
     "output_type": "stream",
     "text": [
      "[[-1.82574186e-01 -3.65148372e-01 -9.12870929e-01]\n",
      " [-8.94427191e-01  4.47213595e-01 -6.94835567e-17]\n",
      " [-4.08248290e-01 -8.16496581e-01  4.08248290e-01]]\n"
     ]
    }
   ],
   "source": [
    "Q = np.vstack((qvects[0],qvects[1],qvects[2])).T\n",
    "print(Q)"
   ]
  },
  {
   "cell_type": "markdown",
   "id": "5cad7f75-97f9-4ce9-8e12-dd64f43fc43a",
   "metadata": {},
   "source": [
    "What just happened there? The `vstack` command stacks the arrays, one on top of the other.\n",
    "But this enters our vectors as rows, and we want them as columns, so we take the transpose.\n",
    "\n",
    "Next, we need the matrix $P$. We do the same thing, but with $AA^T$."
   ]
  },
  {
   "cell_type": "code",
   "execution_count": 8,
   "id": "24598263-a5a4-4aac-86b0-12287c7f026c",
   "metadata": {},
   "outputs": [
    {
     "name": "stdout",
     "output_type": "stream",
     "text": [
      "[[2 2]\n",
      " [2 5]]\n",
      "[1.+0.j 6.+0.j]\n",
      "[[-0.89442719 -0.4472136 ]\n",
      " [ 0.4472136  -0.89442719]]\n"
     ]
    }
   ],
   "source": [
    "C = A@(A.T)\n",
    "Ceval,Cevec = la.eig(C)\n",
    "print(C)\n",
    "print(Ceval)\n",
    "print(Cevec)"
   ]
  },
  {
   "cell_type": "code",
   "execution_count": 36,
   "id": "b5d33199-084a-4838-984c-ed4beb853c06",
   "metadata": {},
   "outputs": [
    {
     "name": "stdout",
     "output_type": "stream",
     "text": [
      "[[-0.89442719]\n",
      " [-0.4472136 ]]\n",
      "[[ 0.4472136 ]\n",
      " [-0.89442719]]\n"
     ]
    }
   ],
   "source": [
    "p1 = Cevec[0].reshape(2,1)\n",
    "p2 = Cevec[1].reshape(2,1)\n",
    "print(p1)\n",
    "print(p2)"
   ]
  },
  {
   "cell_type": "code",
   "execution_count": 39,
   "id": "45850f37-81bb-4ba7-9080-e5fadb757802",
   "metadata": {},
   "outputs": [
    {
     "name": "stdout",
     "output_type": "stream",
     "text": [
      "[[-0.89442719]\n",
      " [-0.4472136 ]]\n"
     ]
    }
   ],
   "source": [
    "p1 = pvects[0].reshape(-1,1)\n",
    "p2 = pvects[1].reshape(2,1)\n",
    "print(p1)"
   ]
  },
  {
   "cell_type": "code",
   "execution_count": 33,
   "id": "08f32767-055e-4bb2-9482-9625d00b4865",
   "metadata": {},
   "outputs": [
    {
     "name": "stdout",
     "output_type": "stream",
     "text": [
      "[[-0.4472136  -0.89442719]\n",
      " [ 0.89442719 -0.4472136 ]]\n"
     ]
    }
   ],
   "source": [
    "P = np.hstack((p2,p1))\n",
    "print(P)"
   ]
  },
  {
   "cell_type": "markdown",
   "id": "38b0a595-2f86-4097-aeaf-41fd373de840",
   "metadata": {},
   "source": [
    "Note: we want the columns in order of decreasing eigenvalue, so we had to swap the order of the eigenvectors above.\n",
    "\n",
    "We want to see if this works! We're going to check two things:\n",
    "1. Whether or not $P\\Sigma_AQ^T$ is equal to $A$\n",
    "2. If the results we found here agree with the built in `np.svd` command.\n",
    "\n",
    "First, we need to construct $\\Sigma_A$. Let's just do that by hand."
   ]
  },
  {
   "cell_type": "code",
   "execution_count": 11,
   "id": "061cb1e0-20f3-4204-8138-5932a4132a7d",
   "metadata": {},
   "outputs": [
    {
     "name": "stdout",
     "output_type": "stream",
     "text": [
      "[[2.44948974+0.j 0.        +0.j 0.        +0.j]\n",
      " [0.        +0.j 1.        +0.j 0.        +0.j]]\n"
     ]
    }
   ],
   "source": [
    "sigA = np.array([[singvals[0],0,0],[0,singvals[1],0]])\n",
    "print(sigA)"
   ]
  },
  {
   "cell_type": "code",
   "execution_count": 32,
   "id": "cd0cf4a8-449c-4165-bb55-44181e00e458",
   "metadata": {},
   "outputs": [
    {
     "data": {
      "text/plain": [
       "array([[ 0.6+0.j, -0.8+0.j, -1. +0.j],\n",
       "       [ 0.8+0.j,  0.6+0.j,  2. +0.j]])"
      ]
     },
     "execution_count": 32,
     "metadata": {},
     "output_type": "execute_result"
    }
   ],
   "source": [
    "P@sigA@Q"
   ]
  },
  {
   "cell_type": "code",
   "execution_count": 13,
   "id": "32330907-5310-4e88-a699-7df88fa2ae05",
   "metadata": {},
   "outputs": [],
   "source": [
    "Pnp,Snp,Qnp = np.linalg.svd(A)"
   ]
  },
  {
   "cell_type": "code",
   "execution_count": 14,
   "id": "1bdf19df-48ef-4309-abda-11ce90b91e1f",
   "metadata": {},
   "outputs": [
    {
     "name": "stdout",
     "output_type": "stream",
     "text": [
      "[[-0.4472136  -0.89442719]\n",
      " [-0.89442719  0.4472136 ]]\n",
      "[2.44948974 1.        ]\n",
      "[[-1.82574186e-01 -3.65148372e-01 -9.12870929e-01]\n",
      " [-8.94427191e-01  4.47213595e-01  2.62514530e-16]\n",
      " [-4.08248290e-01 -8.16496581e-01  4.08248290e-01]]\n"
     ]
    }
   ],
   "source": [
    "print(Pnp)\n",
    "print(Snp)\n",
    "print(Qnp)"
   ]
  },
  {
   "cell_type": "code",
   "execution_count": 17,
   "id": "41c28396-beca-41de-88a7-e908f2364834",
   "metadata": {},
   "outputs": [
    {
     "data": {
      "text/plain": [
       "array([[ 1.00000000e+00+0.j, -1.23617226e-16+0.j,  1.00000000e+00+0.j],\n",
       "       [-3.95312514e-16+0.j,  1.00000000e+00+0.j,  2.00000000e+00+0.j]])"
      ]
     },
     "execution_count": 17,
     "metadata": {},
     "output_type": "execute_result"
    }
   ],
   "source": [
    "Pnp@sigA@Qnp"
   ]
  },
  {
   "cell_type": "markdown",
   "id": "410a60d6-7254-4c5f-ae36-324f064f3ea9",
   "metadata": {},
   "source": [
    "AAACK!! We TRIED"
   ]
  },
  {
   "cell_type": "code",
   "execution_count": null,
   "id": "40042a7b-db1b-40f3-a37c-1c7d497c5ba2",
   "metadata": {},
   "outputs": [],
   "source": []
  }
 ],
 "metadata": {
  "kernelspec": {
   "display_name": "Python 3 (ipykernel)",
   "language": "python",
   "name": "python3"
  },
  "language_info": {
   "codemirror_mode": {
    "name": "ipython",
    "version": 3
   },
   "file_extension": ".py",
   "mimetype": "text/x-python",
   "name": "python",
   "nbconvert_exporter": "python",
   "pygments_lexer": "ipython3",
   "version": "3.12.8"
  }
 },
 "nbformat": 4,
 "nbformat_minor": 5
}
