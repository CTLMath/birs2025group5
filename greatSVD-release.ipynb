{
 "cells": [
  {
   "cell_type": "markdown",
   "id": "ededf709-a58f-4647-b36a-737b698422be",
   "metadata": {
    "deletable": false,
    "editable": false,
    "nbgrader": {
     "cell_type": "markdown",
     "checksum": "a2da38f1cc83760e60c4c051ebd461db",
     "grade": false,
     "grade_id": "cell-f7b327cd3070505a",
     "locked": true,
     "schema_version": 3,
     "solution": false,
     "task": false
    }
   },
   "source": [
    "# Computational Linear Algebra\n",
    "## A great project on Singular Value Decomposition\n",
    "\n",
    "### by Paul, Placida, and Sean\n",
    "\n",
    "## Know your audience\n",
    "- Third year students with a prior course in linear algebra\n",
    "- Prior exposure to programming recommended but not required\n",
    "- In person; we are going to tell ourselves that it's an active learning class\n",
    "- LMS agnostic\n",
    "- Access to Syzygy assumed\n",
    "- Students have seen a short lecture on SVD before doing the notebook\n",
    "\n",
    "## Big Ideas and Essential Questions\n",
    "- Main idea: Singular Value Decomposition is a very stable and fast algorithm with many applications in both math and industry, and it works with **any** matrix\n",
    "- Core understanding -- the decomposition provides us with lots of useful information:\n",
    "     - Four fundamental subspaces\n",
    "     - Rank\n",
    "     - Norm of a matrix\n",
    "     - Condition number: how changes in matrix entries can affect solutions\n",
    "     - Pseudoinverse, least squares\n",
    "     - Principal component analysis\n",
    "- Basic understanding: singular values are usually not nice: this is a numerical algorithm\n",
    "- Essential questions:\n",
    "     - How to compute it!\n",
    "     - How to use SVD to obtain all the information listed above\n",
    "\n",
    "## Learning goals\n",
    "- How to implement SVD in Python using NumPy\n",
    "- Relationship between singular values and eigenvalues\n",
    "- To be able to prove the SVD theorem\n",
    "- What is so fundamental about the four fundamental subspaces?\n",
    "- Why is SVD the right way to compute rank?\n",
    "- How to apply the pseudoinverse to least squares solutions\n",
    "- Geometric interpretation of singular values\n",
    "\n",
    "## Learning plan\n",
    "- Walk through the steps of the SVD algorithm in an example\n",
    "- Confirm that the results match what the built-in algorithm produces\n",
    "- Try the algorithm on a few more examples\n",
    "- Define the four fundamental subspaces, show how to find them from SVD\n",
    "- Do examples and confirm that SVD gives the same nullspace as \"old\" methods\n",
    "- Also use SVD to determine rank in these examples\n",
    "- Introduce pseudoinverse and have students work through an example\n",
    "\n",
    "## Notebook design\n",
    "- Code examples provided\n",
    "- Ensure students understand how to interpret output by comparing algorithm output to initial worked example\n",
    "- Students expected to modify/copy code for their own examples"
   ]
  },
  {
   "cell_type": "markdown",
   "id": "a57dffaa-50af-4592-a2d8-e30a37a8b627",
   "metadata": {
    "deletable": false,
    "editable": false,
    "nbgrader": {
     "cell_type": "markdown",
     "checksum": "3870fbc16f76c7bb7852e36cb3454d89",
     "grade": false,
     "grade_id": "cell-e39f4674f5cf820b",
     "locked": true,
     "schema_version": 3,
     "solution": false,
     "task": false
    }
   },
   "source": [
    "# The Singular Value Decomposition\n",
    "\n",
    "For any $m\\times n$ matrix $A\\text{,}$ the matrices $A^TA$ and $AA^T$ are both positive. (Exercise!) This means that we can define $\\sqrt{A^TA}\\text{,}$ even if $A$ itself is not symmetric or positive.\n",
    "\n",
    "- Since $A^TA$ is symmetric, we know that it can be diagonalized.\n",
    "- Since $A^TA$ is positive, we know its eigenvalues are non-negative.\n",
    "- This means we can define the singular values $\\sigma_i = \\sqrt{\\lambda_i}$ for each $i=1,\\ldots, n$.\n",
    "- This works even if $A$ is not a square matrix!\n",
    "\n",
    "The singular value decomposition has the form\n",
    "\n",
    "$$A = P\\Sigma_A Q^T,$$\n",
    "\n",
    "where $\\Sigma_A$ is a matrix containing the singular values of $A$. There are two conventions:\n",
    "1. $\\Sigma_A$ has the same size as $A$, and the upper-left corner is block-diagonal, with diagonal entries given by the singular values of $A$.\n",
    "2. $\\Sigma_A$ is truncated to include only the diagonal matrix of singular values.\n",
    "\n",
    "The sizes of $P$ and $Q$ depend on which convention we choose. The algorithm in `NumPy` gives the full matrices $P$ and $Q$, but does not give $\\Sigma_A$; it only lists the singular values.\n",
    "\n",
    "## 1. Initial example\n",
    "\n",
    "Let $A = \\begin{bmatrix}1&0&1\\\\0&1&2\\end{bmatrix}$. Compute $A^TA$, and find the singular values of $A$ by determining the eigenvalues of $A^TA$.\n",
    "\n",
    "First, let's load the required libraries."
   ]
  },
  {
   "cell_type": "code",
   "execution_count": null,
   "id": "4308b5ad-77f0-4da9-8962-feeb4195d6e3",
   "metadata": {
    "deletable": false,
    "editable": false,
    "nbgrader": {
     "cell_type": "code",
     "checksum": "311a9a00cb3d3b48113b230b9998c98f",
     "grade": false,
     "grade_id": "cell-fb7b56b0488440ae",
     "locked": true,
     "schema_version": 3,
     "solution": false,
     "task": false
    }
   },
   "outputs": [],
   "source": [
    "import numpy as np\n",
    "import scipy.linalg as la"
   ]
  },
  {
   "cell_type": "markdown",
   "id": "75d343bb-8682-43a7-a6e3-2b2ea099127d",
   "metadata": {
    "deletable": false,
    "editable": false,
    "nbgrader": {
     "cell_type": "markdown",
     "checksum": "e0c5582affb0e5696ad76c6caa18b517",
     "grade": false,
     "grade_id": "cell-99e2cd5018ae6ff1",
     "locked": true,
     "schema_version": 3,
     "solution": false,
     "task": false
    }
   },
   "source": [
    "Next, let's define our matrix $A$ as a NumPy array, and compute $B=A^TA$."
   ]
  },
  {
   "cell_type": "code",
   "execution_count": null,
   "id": "4c5cce27-2a11-4645-8911-128e46e15b90",
   "metadata": {},
   "outputs": [],
   "source": [
    "A = np.array([[1,0,1],[0,1,2]])\n",
    "B = (A.T)@A\n",
    "print(A)\n",
    "print(B)"
   ]
  },
  {
   "cell_type": "markdown",
   "id": "87c7db8f-d38a-4466-a7bd-3a2a4f97f36a",
   "metadata": {
    "deletable": false,
    "editable": false,
    "nbgrader": {
     "cell_type": "markdown",
     "checksum": "b008ceb87bc95b32fea45ea149267a06",
     "grade": false,
     "grade_id": "cell-d30b9bae63d10aa7",
     "locked": true,
     "schema_version": 3,
     "solution": false,
     "task": false
    }
   },
   "source": [
    "Next, let's find the eigenvalues of $B$."
   ]
  },
  {
   "cell_type": "code",
   "execution_count": null,
   "id": "5e6bf060-0d51-4fa2-9e09-1fa8ebe01b79",
   "metadata": {},
   "outputs": [],
   "source": [
    "eigvals = la.eig(B)[0].real\n",
    "print(eigvals)"
   ]
  },
  {
   "cell_type": "markdown",
   "id": "4af75593-9ebf-424f-89b2-3a2854386433",
   "metadata": {
    "deletable": false,
    "editable": false,
    "nbgrader": {
     "cell_type": "markdown",
     "checksum": "00bfa811715b59efcaa25b0868164412",
     "grade": false,
     "grade_id": "cell-4721f66ed9d09ce0",
     "locked": true,
     "schema_version": 3,
     "solution": false,
     "task": false
    }
   },
   "source": [
    "It looks like our eigenvalues are $6, 1$ and $0$. Now, let's get the singular values."
   ]
  },
  {
   "cell_type": "code",
   "execution_count": null,
   "id": "a056bd52-b647-4bf0-b5b4-bee77da766ea",
   "metadata": {},
   "outputs": [],
   "source": [
    "singvals = []\n",
    "for ev in eigvals:\n",
    "    singvals.append(np.sqrt(ev))\n",
    "print(singvals)"
   ]
  },
  {
   "cell_type": "markdown",
   "id": "28d30e5d-5a40-4b42-b9d8-b0c42b841d23",
   "metadata": {
    "deletable": false,
    "editable": false,
    "nbgrader": {
     "cell_type": "markdown",
     "checksum": "60af41eca695f9b21ac17b6315baa159",
     "grade": false,
     "grade_id": "cell-a5c14d352f73bded",
     "locked": true,
     "schema_version": 3,
     "solution": false,
     "task": false
    }
   },
   "source": [
    "The matrix $Q$ is an orthogonal $n\\times n$ matrix whose columns are an orthonormal basis of eigenvectors for $A^TA\\text{.}$ The matrix $P$ is an orthogonal $m\\times m$ matrix whose columns are an orthonormal basis of $\\mathbb{R}^m\\text{.}$ (The first $r$ columns of $P$ are given by $A\\mathbf{q}_i\\text{,}$ where $\\mathbf{q}_i$ is the eigenvector of $A^TA$ corresponding to the positive singular value $\\sigma_i\\text{.}$)\n",
    "\n",
    "First, let's get the eigenvectors."
   ]
  },
  {
   "cell_type": "code",
   "execution_count": null,
   "id": "0e60acdd-bd86-4fa2-8e1a-6ec600b75a59",
   "metadata": {},
   "outputs": [],
   "source": [
    "eigvects = la.eig(B)[1].real\n",
    "print(eigvects)"
   ]
  },
  {
   "cell_type": "markdown",
   "id": "d6c559cc-8996-4ece-ac68-dc99fd0796a9",
   "metadata": {
    "deletable": false,
    "editable": false,
    "nbgrader": {
     "cell_type": "markdown",
     "checksum": "fb435ddf1bd5ce58e91faad48e67bc50",
     "grade": false,
     "grade_id": "cell-ec7173ec2b3f75d6",
     "locked": true,
     "schema_version": 3,
     "solution": false,
     "task": false
    }
   },
   "source": [
    "The columns of this matrix are the eigenvectors of $A^TA$. Since $A^TA$ is symmetric, we know that these eigenvectors are orthogonal; by default, the `la.eig` command produces unit vectors, so we can proceed directly to forming the matrix $Q$. In fact, we don't have to proceed anywhere. This **is** the matrix $Q$!"
   ]
  },
  {
   "cell_type": "code",
   "execution_count": null,
   "id": "7fcbdcb9-7f92-42c8-b651-7c1274784069",
   "metadata": {},
   "outputs": [],
   "source": [
    "Q = eigvects"
   ]
  },
  {
   "cell_type": "markdown",
   "id": "5cad7f75-97f9-4ce9-8e12-dd64f43fc43a",
   "metadata": {
    "deletable": false,
    "editable": false,
    "nbgrader": {
     "cell_type": "markdown",
     "checksum": "7b8de62e40e80a74d2b75bb1e54ffa64",
     "grade": false,
     "grade_id": "cell-7e5ef793fbbe4fa4",
     "locked": true,
     "schema_version": 3,
     "solution": false,
     "task": false
    }
   },
   "source": [
    "For later reference, we want to extract the eigenvectors, which are the columns of $Q$. The command `Q[:,i]` will extract column `i`, but it will extract it as a row vector, so we also need to reshape it as a column. We do this as follows:"
   ]
  },
  {
   "cell_type": "code",
   "execution_count": null,
   "id": "fa9a0ac4-7bf5-4264-8709-4ca69d3b6ee7",
   "metadata": {},
   "outputs": [],
   "source": [
    "q1 = Q[:,0].reshape(3,1)\n",
    "q2 = Q[:,1].reshape(3,1)\n",
    "q3 = Q[:,2].reshape(3,1)"
   ]
  },
  {
   "cell_type": "markdown",
   "id": "0a57544f-09a2-4938-bb7f-8c596b2adb70",
   "metadata": {
    "deletable": false,
    "editable": false,
    "nbgrader": {
     "cell_type": "markdown",
     "checksum": "a9b33558b12a1ac51825ba0254c0ecde",
     "grade": false,
     "grade_id": "cell-05bad2fdebabf7b4",
     "locked": true,
     "schema_version": 3,
     "solution": false,
     "task": false
    }
   },
   "source": [
    "Next, we want to construct the matrix $P$. The columns of $P$ are eigenvectors of $AA^T$, so we proceed as above."
   ]
  },
  {
   "cell_type": "code",
   "execution_count": null,
   "id": "24598263-a5a4-4aac-86b0-12287c7f026c",
   "metadata": {},
   "outputs": [],
   "source": [
    "C = A@(A.T)\n",
    "Ceval,Cevec = la.eig(C)"
   ]
  },
  {
   "cell_type": "code",
   "execution_count": null,
   "id": "b5d33199-084a-4838-984c-ed4beb853c06",
   "metadata": {},
   "outputs": [],
   "source": [
    "P = Cevec\n",
    "print(P)"
   ]
  },
  {
   "cell_type": "markdown",
   "id": "38b0a595-2f86-4097-aeaf-41fd373de840",
   "metadata": {
    "deletable": false,
    "editable": false,
    "nbgrader": {
     "cell_type": "markdown",
     "checksum": "4471f359651a0624851ee93feb853055",
     "grade": false,
     "grade_id": "cell-53486e6f47c4683f",
     "locked": true,
     "schema_version": 3,
     "solution": false,
     "task": false
    }
   },
   "source": [
    "Note: we want the columns in order of decreasing eigenvalue, so we had to swap the order of the eigenvectors above.\n",
    "\n",
    "We want to see if this works! We're going to check two things:\n",
    "1. Whether or not $P\\Sigma_AQ^T$ is equal to $A$\n",
    "2. If the results we found here agree with the built in `np.svd` command.\n",
    "\n",
    "First, we need to construct $\\Sigma_A$. Let's just do that by hand."
   ]
  },
  {
   "cell_type": "code",
   "execution_count": null,
   "id": "061cb1e0-20f3-4204-8138-5932a4132a7d",
   "metadata": {},
   "outputs": [],
   "source": [
    "sigA = np.array([[singvals[0],0,0],[0,singvals[1],0]])\n",
    "print(sigA)"
   ]
  },
  {
   "cell_type": "code",
   "execution_count": null,
   "id": "cd0cf4a8-449c-4165-bb55-44181e00e458",
   "metadata": {},
   "outputs": [],
   "source": [
    "P@sigA@Q.T"
   ]
  },
  {
   "cell_type": "markdown",
   "id": "9b598608-0b3c-4ae3-bfc6-13a5397273dd",
   "metadata": {
    "deletable": false,
    "editable": false,
    "nbgrader": {
     "cell_type": "markdown",
     "checksum": "38ae6499fef422acb83baae6502fdaa4",
     "grade": false,
     "grade_id": "cell-2398003acc9d6894",
     "locked": true,
     "schema_version": 3,
     "solution": false,
     "task": false
    }
   },
   "source": [
    "It didn't work! Two things could have gone wrong. First, we need to ensure that the order of our eigenvectors for both $P$ and $Q$ is consistent with the decreasing order of singular values. Let's check how the eigenvalues are ordered for $P$."
   ]
  },
  {
   "cell_type": "code",
   "execution_count": null,
   "id": "1bdf19df-48ef-4309-abda-11ce90b91e1f",
   "metadata": {},
   "outputs": [],
   "source": [
    "print(Ceval.real)"
   ]
  },
  {
   "cell_type": "markdown",
   "id": "60f7ddff-9106-4635-8b92-5e1e26f3a401",
   "metadata": {
    "deletable": false,
    "editable": false,
    "nbgrader": {
     "cell_type": "markdown",
     "checksum": "a6e1b3e535367648143645554545e18a",
     "grade": false,
     "grade_id": "cell-7f868b9e4fa935a8",
     "locked": true,
     "schema_version": 3,
     "solution": false,
     "task": false
    }
   },
   "source": [
    "Oh, dang! Our vectors were in the wrong order! Let's look at the eigenvectors again."
   ]
  },
  {
   "cell_type": "code",
   "execution_count": null,
   "id": "7177d558-f72d-4ace-ae77-20609ab5c56d",
   "metadata": {},
   "outputs": [],
   "source": [
    "print(Cevec.real)"
   ]
  },
  {
   "cell_type": "markdown",
   "id": "ace23d16-cb80-4a99-9a4f-1ef2ae925650",
   "metadata": {
    "deletable": false,
    "editable": false,
    "nbgrader": {
     "cell_type": "markdown",
     "checksum": "58bab37de27e2a81f26ad693cf24a560",
     "grade": false,
     "grade_id": "cell-8597385e26492b87",
     "locked": true,
     "schema_version": 3,
     "solution": false,
     "task": false
    }
   },
   "source": [
    "Can we swap the columns without manually writing out the entries? Swapping rows is easy, so let's try this: transpose, to turn columns into rows, then, swap rows, and then, transpose back."
   ]
  },
  {
   "cell_type": "code",
   "execution_count": null,
   "id": "840827f5-df22-41e0-ab72-6e5f01a5741d",
   "metadata": {},
   "outputs": [],
   "source": [
    "Cevec2 = Cevec.T\n",
    "Cevec3 = np.array([Cevec2[1],Cevec2[0]])\n",
    "Cevec4 = Cevec3.T\n",
    "print(Cevec4)"
   ]
  },
  {
   "cell_type": "markdown",
   "id": "1018c60c-7173-40b7-876b-6c245bd7b7d2",
   "metadata": {
    "deletable": false,
    "editable": false,
    "nbgrader": {
     "cell_type": "markdown",
     "checksum": "593ac4974d79f2695ddedf211baec69d",
     "grade": false,
     "grade_id": "cell-338454fc720fa35f",
     "locked": true,
     "schema_version": 3,
     "solution": false,
     "task": false
    }
   },
   "source": [
    "Success! Now, let's see if we get back the matrix $A$."
   ]
  },
  {
   "cell_type": "code",
   "execution_count": null,
   "id": "52b55ba3-d446-437e-81e1-1467d0177d08",
   "metadata": {},
   "outputs": [],
   "source": [
    "P = Cevec4\n",
    "print(P@sigA@Q.T)\n",
    "print(np.round(P@sigA@Q.T))"
   ]
  },
  {
   "cell_type": "markdown",
   "id": "72e2776f-8179-4c3e-a868-459f40b51915",
   "metadata": {
    "deletable": false,
    "editable": false,
    "nbgrader": {
     "cell_type": "markdown",
     "checksum": "5f91fd3d65f437f96d4fe15c213ca3a3",
     "grade": false,
     "grade_id": "cell-b769dab3314bd194",
     "locked": true,
     "schema_version": 3,
     "solution": false,
     "task": false
    }
   },
   "source": [
    "Hooray!!!! It worked! But there is one other thing that could go wrong: each eigenvector is determined only up to sign. Change the signs on one column, and you might not get back your matrix. How can we make sure everything matches up?"
   ]
  },
  {
   "cell_type": "markdown",
   "id": "802d7d69-4bed-4528-9007-b40b16e76de6",
   "metadata": {
    "deletable": false,
    "editable": false,
    "nbgrader": {
     "cell_type": "markdown",
     "checksum": "7759223fae3ac617f6c82db45fc93b91",
     "grade": false,
     "grade_id": "cell-3ac42e4c7f98f085",
     "locked": true,
     "schema_version": 3,
     "solution": false,
     "task": false
    }
   },
   "source": [
    "### Alternative construction of $P$\n",
    "\n",
    "Following the text by Keith Nicholson, we get the columns of $P$ using the formula\n",
    "$$p_i = \\frac{1}{\\lVert Aq_i\\rVert}q_i,$$\n",
    "where $p_i,q_i$ represent the $i$th columns of $P$ and $Q$, respectively.\n",
    "\n",
    "**Caution**: it could happen that the rank of $A$ is less than the size of $P$. (For example, if $A$ is $m\\times n$ with $m>n$.) When this happens, the matrix $P$ has more columns than the matrix $Q$.\n",
    "The formula above will give us a basis for a subspace, which we then need to extend to a basis of $\\mathbb{R}^m$, and then orthonormalize using Gram-Schmidt. (So you might prefer to just find the eigenvalues of $AA^T$!)\n",
    "\n",
    "Earlier, we turned the eigenvectors of $A^TA$ into column vectors called `q1,q2,q3`. The first two of these correspond to the non-zero singular values. Let's multiply them by $A$, and then normalize."
   ]
  },
  {
   "cell_type": "code",
   "execution_count": null,
   "id": "1dc3062c-844c-4de6-b166-f4d4648d9a4e",
   "metadata": {},
   "outputs": [],
   "source": [
    "p1 = A@q1\n",
    "p2 = A@q2\n",
    "print(p1)\n",
    "print(p2)"
   ]
  },
  {
   "cell_type": "code",
   "execution_count": null,
   "id": "5dcd7379-6648-4449-9beb-8a34c481d085",
   "metadata": {},
   "outputs": [],
   "source": [
    "p1n = (1/np.linalg.norm(p1))*p1\n",
    "p2n = (1/np.linalg.norm(p2))*p2\n",
    "print(p1n)\n",
    "print(p2n)"
   ]
  },
  {
   "cell_type": "markdown",
   "id": "7f1040b7-cdc4-4cf3-b16f-cea101ac696b",
   "metadata": {
    "deletable": false,
    "editable": false,
    "nbgrader": {
     "cell_type": "markdown",
     "checksum": "1cf0722cb94a86c5861f61673cb0237a",
     "grade": false,
     "grade_id": "cell-1018cea55ea12e94",
     "locked": true,
     "schema_version": 3,
     "solution": false,
     "task": false
    }
   },
   "source": [
    "We could reshape these into rows, put them into an `np.array`, and then take the transpose.\n",
    "Or, we could take advantage of the `hstack` function:"
   ]
  },
  {
   "cell_type": "code",
   "execution_count": null,
   "id": "c6c20767-7665-42c7-9237-e34810899a62",
   "metadata": {},
   "outputs": [],
   "source": [
    "P = np.hstack((p1n,p2n))\n",
    "print(P)"
   ]
  },
  {
   "cell_type": "markdown",
   "id": "2a3e8e3c-a973-49fd-99d5-dd7b12efae77",
   "metadata": {
    "deletable": false,
    "editable": false,
    "nbgrader": {
     "cell_type": "markdown",
     "checksum": "19f8063fb00bf950979bac692f1bc1a6",
     "grade": false,
     "grade_id": "cell-d638921abb099c6e",
     "locked": true,
     "schema_version": 3,
     "solution": false,
     "task": false
    }
   },
   "source": [
    "That's the same matrix $P$ as before!\n",
    "\n",
    "Finally, we should note that there is a built-in function to do this for us in `Numpy`:"
   ]
  },
  {
   "cell_type": "code",
   "execution_count": null,
   "id": "a20a95ce-9d04-4b90-8dc2-ef37a42804c9",
   "metadata": {},
   "outputs": [],
   "source": [
    "P,S,Q = np.linalg.svd(A)\n",
    "print(P)\n",
    "print(S)\n",
    "print(Q)"
   ]
  },
  {
   "cell_type": "markdown",
   "id": "4a6eb0c4-f1cd-49fd-97a6-d08741fc7c51",
   "metadata": {
    "deletable": false,
    "editable": false,
    "nbgrader": {
     "cell_type": "markdown",
     "checksum": "1b8e0e442a8a048106e5c23659f27d63",
     "grade": false,
     "grade_id": "cell-b198610249d2e550",
     "locked": true,
     "schema_version": 3,
     "solution": false,
     "task": false
    }
   },
   "source": [
    "That was much less work! (But it's good to know where these things come from.)\n",
    "\n",
    "Note that `S` is just the list of singular values; it is not the matrix $\\Sigma_A$. If you need this matrix, you will still need to construct it."
   ]
  },
  {
   "cell_type": "markdown",
   "id": "1e0a623e-67ac-4103-b8ac-518ba2da2b18",
   "metadata": {
    "deletable": false,
    "editable": false,
    "nbgrader": {
     "cell_type": "markdown",
     "checksum": "246a5b6e156a26850de5c47ef75f57a4",
     "grade": false,
     "grade_id": "cell-e855977f28615a04",
     "locked": true,
     "schema_version": 3,
     "solution": false,
     "task": false
    }
   },
   "source": [
    "## 2. Try it yourself!\n",
    "\n",
    "Using `np.linalg.svd`, find the singular value decomposition of the matrix\n",
    "$$A = \\begin{bmatrix}2&-2\\\\1&-1\\\\-1&1\\end{bmatrix}.$$\n",
    "\n",
    "Your matrices should be given the following names:\n",
    "- `A` for the original matrix\n",
    "- `P`, `S`, `Q` for the output of `np.linalg.svd`\n",
    "- `sigA` for the matrix of singular values"
   ]
  },
  {
   "cell_type": "code",
   "execution_count": null,
   "id": "3ba78e1c-e8aa-43c6-acfb-87f4b15ae15a",
   "metadata": {
    "deletable": false,
    "nbgrader": {
     "cell_type": "code",
     "checksum": "09a6dd718ebec434950510804b1ddf27",
     "grade": false,
     "grade_id": "cell-9267f27bdcd661be",
     "locked": false,
     "schema_version": 3,
     "solution": true,
     "task": false
    }
   },
   "outputs": [],
   "source": [
    "# YOUR CODE HERE\n",
    "raise NotImplementedError()"
   ]
  },
  {
   "cell_type": "code",
   "execution_count": null,
   "id": "2bf67277-bfd1-4c3b-9eb5-1177f7981b71",
   "metadata": {
    "deletable": false,
    "editable": false,
    "nbgrader": {
     "cell_type": "code",
     "checksum": "4834c7b7111c5768e385c813095feaef",
     "grade": true,
     "grade_id": "cell-58970ef3874592bd",
     "locked": true,
     "points": 1,
     "schema_version": 3,
     "solution": false,
     "task": false
    }
   },
   "outputs": [],
   "source": [
    "\"Enter the matrix A (1 mark)\"\n",
    "assert isinstance(A,np.ndarray), \"A should be a NumPy array\"\n",
    "assert A.shape == (3,2), \"A should be a 3 by 2 matrix\"\n",
    "print(\"You entered a matrix of the correct size!\")"
   ]
  },
  {
   "cell_type": "code",
   "execution_count": null,
   "id": "a9cfcf40-b684-4fea-b78d-9e55c3fff03d",
   "metadata": {
    "deletable": false,
    "nbgrader": {
     "cell_type": "code",
     "checksum": "571db824ea3ea60bde383af598f5852c",
     "grade": false,
     "grade_id": "cell-a1096298b1484c59",
     "locked": false,
     "schema_version": 3,
     "solution": true,
     "task": false
    }
   },
   "outputs": [],
   "source": [
    "# YOUR CODE HERE\n",
    "raise NotImplementedError()"
   ]
  },
  {
   "cell_type": "code",
   "execution_count": null,
   "id": "166cccf1-6de3-4037-813b-bd04bf3ed3d3",
   "metadata": {
    "deletable": false,
    "editable": false,
    "nbgrader": {
     "cell_type": "code",
     "checksum": "3c44657eddd7b93d8e87bdfe8465f797",
     "grade": true,
     "grade_id": "cell-8d54b107485a31f7",
     "locked": true,
     "points": 1,
     "schema_version": 3,
     "solution": false,
     "task": false
    }
   },
   "outputs": [],
   "source": [
    "\"Compute the SVD using NumPy (1 mark)\"\n",
    "assert isinstance(P,np.ndarray), \"P should be a NumPy array\"\n",
    "assert P.shape == (3,3), \"P should be 3 by 3\"\n",
    "assert isinstance(Q,np.ndarray), \"Q should be a NumPy array\"\n",
    "assert Q.shape == (2,2), \"Q should be 2 by 2\"\n",
    "print(\"Success!\")"
   ]
  },
  {
   "cell_type": "markdown",
   "id": "b9cc81a7-36dc-4cdb-892c-e509b3c9b70a",
   "metadata": {
    "deletable": false,
    "editable": false,
    "nbgrader": {
     "cell_type": "markdown",
     "checksum": "2a1e88bf6b971266fb7d5dc14ac94705",
     "grade": false,
     "grade_id": "cell-0a7c2c2760dede11",
     "locked": true,
     "schema_version": 3,
     "solution": false,
     "task": false
    }
   },
   "source": [
    "Next, make the matrix `sigA`. You may first want to print `S` to see what the entries will be."
   ]
  },
  {
   "cell_type": "code",
   "execution_count": null,
   "id": "c0484342-82b2-4a35-bd34-6fe9b030203c",
   "metadata": {},
   "outputs": [],
   "source": [
    "print(S)"
   ]
  },
  {
   "cell_type": "code",
   "execution_count": null,
   "id": "02a0074d-495f-4098-b917-93e452f9d8fc",
   "metadata": {
    "deletable": false,
    "nbgrader": {
     "cell_type": "code",
     "checksum": "33dd3aafe98ad011145c50c708d48571",
     "grade": false,
     "grade_id": "cell-81eff05453c3a254",
     "locked": false,
     "schema_version": 3,
     "solution": true,
     "task": false
    }
   },
   "outputs": [],
   "source": [
    "# YOUR CODE HERE\n",
    "raise NotImplementedError()"
   ]
  },
  {
   "cell_type": "code",
   "execution_count": null,
   "id": "60124b81-4c45-4aab-99bd-576d11d9b8e1",
   "metadata": {
    "deletable": false,
    "editable": false,
    "nbgrader": {
     "cell_type": "code",
     "checksum": "72b7c4f9fffa042d25c1a7d9f3e917e9",
     "grade": true,
     "grade_id": "cell-d5b056e234cf8948",
     "locked": true,
     "points": 1,
     "schema_version": 3,
     "solution": false,
     "task": false
    }
   },
   "outputs": [],
   "source": [
    "\"Construct the matrix sigA (1 mark)\"\n",
    "assert isinstance(sigA,np.ndarray), \"sigA should be a NumPy array\"\n",
    "assert sigA.shape == (3,2), \"sigA should be 3 by 2\"\n",
    "assert sigA[0,0] == S[0], \"first entry should be the nonzero singular value\"\n",
    "print(\"Success\")"
   ]
  },
  {
   "cell_type": "markdown",
   "id": "d0548b8d-38c6-4fe8-b0ee-b0d06f31a433",
   "metadata": {
    "deletable": false,
    "editable": false,
    "nbgrader": {
     "cell_type": "markdown",
     "checksum": "5bb91dd3acff1db732764d94c3a5e8e8",
     "grade": false,
     "grade_id": "cell-fcdb8de41431adb5",
     "locked": true,
     "schema_version": 3,
     "solution": false,
     "task": false
    }
   },
   "source": [
    "Finally, check that your matrices multiply to give back the original matrix $A$."
   ]
  },
  {
   "cell_type": "code",
   "execution_count": null,
   "id": "88bc0100-3aa2-499b-97b4-50ee93a135ca",
   "metadata": {
    "deletable": false,
    "nbgrader": {
     "cell_type": "code",
     "checksum": "ac12eb70d1ed38382d1e6c226faf9538",
     "grade": false,
     "grade_id": "cell-573a38ae4f81ffc5",
     "locked": false,
     "schema_version": 3,
     "solution": true,
     "task": false
    }
   },
   "outputs": [],
   "source": [
    "# YOUR CODE HERE\n",
    "raise NotImplementedError()"
   ]
  },
  {
   "cell_type": "code",
   "execution_count": null,
   "id": "8cc7501b-91f7-4c5e-b6da-103b257c6b5b",
   "metadata": {
    "deletable": false,
    "editable": false,
    "nbgrader": {
     "cell_type": "code",
     "checksum": "9a8f71f7016de972bf5669470915f8e4",
     "grade": true,
     "grade_id": "cell-9c610543cf277081",
     "locked": true,
     "points": 1,
     "schema_version": 3,
     "solution": false,
     "task": false
    }
   },
   "outputs": [],
   "source": [
    "\"Check that we get back the original matrix (1 mark)\"\n",
    "assert np.round(P@sigA@Q.T).all() == A.all(), \"these should match\"\n",
    "print(\"You did it!\")"
   ]
  },
  {
   "cell_type": "markdown",
   "id": "2fde75d7-e06a-4047-8f7a-2262fae33ad1",
   "metadata": {
    "deletable": false,
    "editable": false,
    "nbgrader": {
     "cell_type": "markdown",
     "checksum": "a266859d8af5a2ba1911f8612ec0f7c5",
     "grade": false,
     "grade_id": "cell-c4a37f900d8c70aa",
     "locked": true,
     "schema_version": 3,
     "solution": false,
     "task": false
    }
   },
   "source": [
    "## 3. Rank, and fundamental subspaces\n",
    "\n",
    "In your first course in linear algebra, the rank of a matrix $A$ was defined as the number of leading ones in the reduced row-echelon form of $A$.\n",
    "\n",
    "With SVD, we can give a more robust defintion of rank:\n",
    "\n",
    "**Definition**: the *rank* of a matrix $A$ is the number of nonzero singular values of $A$.\n",
    "\n",
    "There are also four \"fundamental\" subspaces associated with any matrix $A$:\n",
    "\n",
    "1. The nullspace of $A$\n",
    "2. The column space of $A$\n",
    "3. The row space of $A$\n",
    "4. The nullspace of $A^T$\n",
    "\n",
    "These can be obtained from the SVD as follows:\n",
    "\n",
    "Suppose the rank of $A$ is $r$. Then:\n",
    "- The column space of $A$ is spanned by the first $r$ columns of $P$\n",
    "- The remaining columns of $P$ give an orthonormal basis for the nullspace of $A^T$\n",
    "- The first $r$ columns of $Q$ give an orthonormal basis for the row space of $A$\n",
    "- The remaining columns of $Q$ give an orthonormal basis for the nullspace of $A$\n",
    "\n",
    "### Part (a): determine the rank of the matrix $A$ from Question 2\n",
    "\n",
    "Since NumPy uses floating point calculations, we need to treat any sufficiently small number as zero.\n",
    "\n",
    "Below is a short program to count the number of nonzero singular values. Use this to determine the rank of $A$, and then enter the value of the rank. Use `r` as the name of the rank."
   ]
  },
  {
   "cell_type": "code",
   "execution_count": null,
   "id": "a686aa1c-22b0-4432-8920-d7a23c00770f",
   "metadata": {
    "deletable": false,
    "editable": false,
    "nbgrader": {
     "cell_type": "code",
     "checksum": "5df5c77ab1d29088443a8523dd552c6a",
     "grade": false,
     "grade_id": "cell-ac9ad3ff3e66f77a",
     "locked": true,
     "schema_version": 3,
     "solution": false,
     "task": false
    }
   },
   "outputs": [],
   "source": [
    "r = 0\n",
    "for s in S:\n",
    "    if np.abs(s) > 1e-5:\n",
    "        r = r+1\n",
    "    else:\n",
    "        r = r\n",
    "print(r)"
   ]
  },
  {
   "cell_type": "code",
   "execution_count": null,
   "id": "bfab486f-e18e-4b95-8a93-551ff4b897c7",
   "metadata": {
    "deletable": false,
    "nbgrader": {
     "cell_type": "code",
     "checksum": "9354c3e6717066685f520b566eb18c8e",
     "grade": false,
     "grade_id": "cell-ca0e03e174b3e28a",
     "locked": false,
     "schema_version": 3,
     "solution": true,
     "task": false
    }
   },
   "outputs": [],
   "source": [
    "# YOUR CODE HERE\n",
    "raise NotImplementedError()"
   ]
  },
  {
   "cell_type": "code",
   "execution_count": null,
   "id": "5265988a-6c22-4d21-b894-5e96817ed4b0",
   "metadata": {
    "deletable": false,
    "editable": false,
    "nbgrader": {
     "cell_type": "code",
     "checksum": "ae6aacdd8ddfe1ae2cf89e0b3b2ca530",
     "grade": true,
     "grade_id": "cell-6e94fff1fcd4b3cd",
     "locked": true,
     "points": 1,
     "schema_version": 3,
     "solution": false,
     "task": false
    }
   },
   "outputs": [],
   "source": [
    "\"Check that the rank is correct (1 mark)\"\n",
    "assert r == 1, \"The rank should be 1\"\n",
    "print(\"Hoorary!\")"
   ]
  },
  {
   "cell_type": "markdown",
   "id": "04426ecf-9b04-4d3b-9d47-81ea394a2291",
   "metadata": {
    "deletable": false,
    "editable": false,
    "nbgrader": {
     "cell_type": "markdown",
     "checksum": "8e819c47895b539e81f7deeb234b33db",
     "grade": false,
     "grade_id": "cell-a417c6301174bfaf",
     "locked": true,
     "schema_version": 3,
     "solution": false,
     "task": false
    }
   },
   "source": [
    "### Part (b): Determine the column space of $A$\n",
    "\n",
    "Enter the vectors that form a basis for the column space of $A$. Name these `p1`, `p2`, etc.\n",
    "\n",
    "You can leave each vector as a NumPy `array` (you don't need to reshape as a column vector)."
   ]
  },
  {
   "cell_type": "code",
   "execution_count": null,
   "id": "3aae591e-3214-4715-97d5-4fa4243616ce",
   "metadata": {
    "deletable": false,
    "nbgrader": {
     "cell_type": "code",
     "checksum": "fa3fdf8f98f9b518c19533e6a34a1dd4",
     "grade": false,
     "grade_id": "cell-3740a54dedd652a3",
     "locked": false,
     "schema_version": 3,
     "solution": true,
     "task": false
    }
   },
   "outputs": [],
   "source": [
    "# YOUR CODE HERE\n",
    "raise NotImplementedError()"
   ]
  },
  {
   "cell_type": "code",
   "execution_count": null,
   "id": "a38ac71b-735e-470e-be1c-f57935212495",
   "metadata": {
    "deletable": false,
    "editable": false,
    "nbgrader": {
     "cell_type": "code",
     "checksum": "8e5e74fd33fed916f19118b2fd5361ed",
     "grade": true,
     "grade_id": "cell-602538996fa75a9e",
     "locked": true,
     "points": 1,
     "schema_version": 3,
     "solution": false,
     "task": false
    }
   },
   "outputs": [],
   "source": [
    "\"Check the column space basis (1 mark)\"\n",
    "assert isinstance(p1,np.ndarray), \"p1 should be a NumPy array\"\n",
    "assert p1.all() == P[:,0].all(), \"p1 should be the first column of P\"\n",
    "print(\"correct!\")"
   ]
  },
  {
   "cell_type": "markdown",
   "id": "15f8a095-c343-4364-96e0-f491de1cff48",
   "metadata": {
    "deletable": false,
    "editable": false,
    "nbgrader": {
     "cell_type": "markdown",
     "checksum": "ddc853ba9bfa504aa96fe1bbc39c2a54",
     "grade": false,
     "grade_id": "cell-f6c3ec022413a55c",
     "locked": true,
     "schema_version": 3,
     "solution": false,
     "task": false
    }
   },
   "source": [
    "### Part (c) Determine the nullspace of $A$\n",
    "\n",
    "Enter the vectors that form a basis for the nullspace of $A$. Name these `q1, q2`, etc.\n",
    "\n",
    "You can leave each vector as a NumPy `array` (you don't need to reshape as a column vector)."
   ]
  },
  {
   "cell_type": "code",
   "execution_count": null,
   "id": "283bd813-3a81-479d-9078-559cff3b1c79",
   "metadata": {
    "deletable": false,
    "nbgrader": {
     "cell_type": "code",
     "checksum": "550e5838a7b057b6f6f28d71a7148048",
     "grade": false,
     "grade_id": "cell-97441f2be3a1d978",
     "locked": false,
     "schema_version": 3,
     "solution": true,
     "task": false
    }
   },
   "outputs": [],
   "source": [
    "# YOUR CODE HERE\n",
    "raise NotImplementedError()"
   ]
  },
  {
   "cell_type": "code",
   "execution_count": null,
   "id": "efe1f13f-c7d8-47f1-a75c-c036839e9392",
   "metadata": {
    "deletable": false,
    "editable": false,
    "nbgrader": {
     "cell_type": "code",
     "checksum": "ed4cdd7d5f46a7a1d36a0916660894d8",
     "grade": true,
     "grade_id": "cell-ade693e4e31a3188",
     "locked": true,
     "points": 1,
     "schema_version": 3,
     "solution": false,
     "task": false
    }
   },
   "outputs": [],
   "source": [
    "\"Check the nullspace basis\"\n",
    "assert isinstance(q1,np.ndarray), \"q1 should be a NumPy array (1 mark)\"\n",
    "assert q1.all() == Q[:,1].all(), \"q1 should be the first column of Q\"\n",
    "print(\"correct!\")"
   ]
  },
  {
   "cell_type": "markdown",
   "id": "154c609f-f69c-4dce-990a-df27d665226e",
   "metadata": {
    "deletable": false,
    "editable": false,
    "nbgrader": {
     "cell_type": "markdown",
     "checksum": "7579f4b4369e0f2cb4867a0cec091d85",
     "grade": false,
     "grade_id": "cell-45045c27a51ba2c0",
     "locked": true,
     "schema_version": 3,
     "solution": false,
     "task": false
    }
   },
   "source": [
    "Congratulations! You've got the basics of the SVD. For homework, make sure you can determine bases for the row space of $A$ and the nullspace of $A^T$.\n",
    "\n",
    "Next time, we will look at further applications of the SVD."
   ]
  }
 ],
 "metadata": {
  "kernelspec": {
   "display_name": "Python 3 (ipykernel)",
   "language": "python",
   "name": "python3"
  },
  "language_info": {
   "codemirror_mode": {
    "name": "ipython",
    "version": 3
   },
   "file_extension": ".py",
   "mimetype": "text/x-python",
   "name": "python",
   "nbconvert_exporter": "python",
   "pygments_lexer": "ipython3",
   "version": "3.10.12"
  }
 },
 "nbformat": 4,
 "nbformat_minor": 5
}
