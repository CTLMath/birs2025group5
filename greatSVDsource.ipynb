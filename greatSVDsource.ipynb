{
 "cells": [
  {
   "cell_type": "markdown",
   "id": "ededf709-a58f-4647-b36a-737b698422be",
   "metadata": {},
   "source": [
    "# Computational Linear Algebra\n",
    "## A great project on Singular Value Decomposition\n",
    "\n",
    "### by Paul, Placida, and Sean\n",
    "\n",
    "## Know your audience\n",
    "- Third year students with a prior course in linear algebra\n",
    "- Prior exposure to programming recommended but not required\n",
    "- In person; we are going to tell ourselves that it's an active learning class\n",
    "- LMS agnostic\n",
    "- Access to Syzygy assumed\n",
    "- Students have seen a short lecture on SVD before doing the notebook\n",
    "\n",
    "## Big Ideas and Essential Questions\n",
    "- Main idea: Singular Value Decomposition is a very stable and fast algorithm with many applications in both math and industry, and it works with **any** matrix\n",
    "- Core understanding -- the decomposition provides us with lots of useful information:\n",
    "     - Four fundamental subspaces\n",
    "     - Rank\n",
    "     - Norm of a matrix\n",
    "     - Condition number: how changes in matrix entries can affect solutions\n",
    "     - Pseudoinverse, least squares\n",
    "     - Principal component analysis\n",
    "- Basic understanding: singular values are usually not nice: this is a numerical algorithm\n",
    "- Essential questions:\n",
    "     - How to compute it!\n",
    "     - How to use SVD to obtain all the information listed above\n",
    "\n",
    "## Learning goals\n",
    "- How to implement SVD in Python using NumPy\n",
    "- Relationship between singular values and eigenvalues\n",
    "- To be able to prove the SVD theorem\n",
    "- What is so fundamental about the four fundamental subspaces?\n",
    "- Why is SVD the right way to compute rank?\n",
    "- How to apply the pseudoinverse to least squares solutions\n",
    "- Geometric interpretation of singular values\n",
    "\n",
    "## Learning plan\n",
    "- Walk through the steps of the SVD algorithm in an example\n",
    "- Confirm that the results match what the built-in algorithm produces\n",
    "- Try the algorithm on a few more examples\n",
    "- Define the four fundamental subspaces, show how to find them from SVD\n",
    "- Do examples and confirm that SVD gives the same nullspace as \"old\" methods\n",
    "- Also use SVD to determine rank in these examples\n",
    "- Introduce pseudoinverse and have students work through an example\n",
    "\n",
    "## Notebook design\n",
    "- Code examples provided\n",
    "- Ensure students understand how to interpret output by comparing algorithm output to initial worked example\n",
    "- Students expected to modify/copy code for their own examples"
   ]
  },
  {
   "cell_type": "markdown",
   "id": "a57dffaa-50af-4592-a2d8-e30a37a8b627",
   "metadata": {},
   "source": [
    "# The Singular Value Decomposition\n",
    "\n",
    "For any $m\\times n$ matrix $A\\text{,}$ the matrices $A^TA$ and $AA^T$ are both positive. (Exercise!) This means that we can define $\\sqrt{A^TA}\\text{,}$ even if $A$ itself is not symmetric or positive.\n",
    "\n",
    "- Since $A^TA$ is symmetric, we know that it can be diagonalized.\n",
    "- Since $A^TA$ is positive, we know its eigenvalues are non-negative.\n",
    "- This means we can define the singular values $\\sigma_i = \\sqrt{\\lambda_i}$ for each $i=1,\\ldots, n$.\n",
    "- This works even if $A$ is not a square matrix!\n",
    "\n",
    "The singular value decomposition has the form\n",
    "\n",
    "$$A = P\\Sigma_A Q^T,$$\n",
    "\n",
    "where $\\Sigma_A$ is a matrix containing the singular values of $A$. There are two conventions:\n",
    "1. $\\Sigma_A$ has the same size as $A$, and the upper-left corner is block-diagonal, with diagonal entries given by the singular values of $A$.\n",
    "2. $\\Sigma_A$ is truncated to include only the diagonal matrix of singular values.\n",
    "\n",
    "The sizes of $P$ and $Q$ depend on which convention we choose. The algorithm in `NumPy` gives the full matrices $P$ and $Q$, but does not give $\\Sigma_A$; it only lists the singular values.\n",
    "\n",
    "## 1. Initial example\n",
    "\n",
    "Let $A = \\begin{bmatrix}1&0&1\\\\0&1&2\\end{bmatrix}$. Compute $A^TA$, and find the singular values of $A$ by determining the eigenvalues of $A^TA$.\n",
    "\n",
    "First, let's load the required libraries."
   ]
  },
  {
   "cell_type": "code",
   "execution_count": 1,
   "id": "4308b5ad-77f0-4da9-8962-feeb4195d6e3",
   "metadata": {},
   "outputs": [],
   "source": [
    "import numpy as np\n",
    "import scipy.linalg as la"
   ]
  },
  {
   "cell_type": "markdown",
   "id": "75d343bb-8682-43a7-a6e3-2b2ea099127d",
   "metadata": {},
   "source": [
    "Next, let's define our matrix $A$ as a NumPy array, and compute $B=A^TA$."
   ]
  },
  {
   "cell_type": "code",
   "execution_count": 2,
   "id": "4c5cce27-2a11-4645-8911-128e46e15b90",
   "metadata": {},
   "outputs": [
    {
     "name": "stdout",
     "output_type": "stream",
     "text": [
      "[[1 0 1]\n",
      " [0 1 2]]\n",
      "[[1 0 1]\n",
      " [0 1 2]\n",
      " [1 2 5]]\n"
     ]
    }
   ],
   "source": [
    "A = np.array([[1,0,1],[0,1,2]])\n",
    "B = (A.T)@A\n",
    "print(A)\n",
    "print(B)"
   ]
  },
  {
   "cell_type": "markdown",
   "id": "87c7db8f-d38a-4466-a7bd-3a2a4f97f36a",
   "metadata": {},
   "source": [
    "Next, let's find the eigenvalues of $B$."
   ]
  },
  {
   "cell_type": "code",
   "execution_count": 3,
   "id": "5e6bf060-0d51-4fa2-9e09-1fa8ebe01b79",
   "metadata": {},
   "outputs": [
    {
     "name": "stdout",
     "output_type": "stream",
     "text": [
      "[6.00000000e+00 1.00000000e+00 4.59534891e-17]\n"
     ]
    }
   ],
   "source": [
    "eigvals = la.eig(B)[0].real\n",
    "print(eigvals)"
   ]
  },
  {
   "cell_type": "markdown",
   "id": "4af75593-9ebf-424f-89b2-3a2854386433",
   "metadata": {},
   "source": [
    "It looks like our eigenvalues are $6, 1$ and $0$. Now, let's get the singular values."
   ]
  },
  {
   "cell_type": "code",
   "execution_count": 4,
   "id": "a056bd52-b647-4bf0-b5b4-bee77da766ea",
   "metadata": {},
   "outputs": [
    {
     "name": "stdout",
     "output_type": "stream",
     "text": [
      "[2.449489742783178, 1.0, 6.778900286091395e-09]\n"
     ]
    }
   ],
   "source": [
    "singvals = []\n",
    "for ev in eigvals:\n",
    "    singvals.append(np.sqrt(ev))\n",
    "print(singvals)"
   ]
  },
  {
   "cell_type": "markdown",
   "id": "28d30e5d-5a40-4b42-b9d8-b0c42b841d23",
   "metadata": {},
   "source": [
    "The matrix $Q$ is an orthogonal $n\\times n$ matrix whose columns are an orthonormal basis of eigenvectors for $A^TA\\text{.}$ The matrix $P$ is an orthogonal $m\\times m$ matrix whose columns are an orthonormal basis of $\\mathbb{R}^m\\text{.}$ (The first $r$ columns of $P$ are given by $A\\mathbf{q}_i\\text{,}$ where $\\mathbf{q}_i$ is the eigenvector of $A^TA$ corresponding to the positive singular value $\\sigma_i\\text{.}$)\n",
    "\n",
    "First, let's get the eigenvectors."
   ]
  },
  {
   "cell_type": "code",
   "execution_count": 5,
   "id": "0e60acdd-bd86-4fa2-8e1a-6ec600b75a59",
   "metadata": {},
   "outputs": [
    {
     "name": "stdout",
     "output_type": "stream",
     "text": [
      "[[-1.82574186e-01 -8.94427191e-01 -4.08248290e-01]\n",
      " [-3.65148372e-01  4.47213595e-01 -8.16496581e-01]\n",
      " [-9.12870929e-01 -6.94835567e-17  4.08248290e-01]]\n"
     ]
    }
   ],
   "source": [
    "eigvects = la.eig(B)[1].real\n",
    "print(eigvects)"
   ]
  },
  {
   "cell_type": "markdown",
   "id": "d6c559cc-8996-4ece-ac68-dc99fd0796a9",
   "metadata": {},
   "source": [
    "The columns of this matrix are the eigenvectors of $A^TA$. Since $A^TA$ is symmetric, we know that these eigenvectors are orthogonal; by default, the `la.eig` command produces unit vectors, so we can proceed directly to forming the matrix $Q$. In fact, we don't have to proceed anywhere. This **is** the matrix $Q$!"
   ]
  },
  {
   "cell_type": "code",
   "execution_count": 7,
   "id": "7fcbdcb9-7f92-42c8-b651-7c1274784069",
   "metadata": {},
   "outputs": [],
   "source": [
    "Q = eigvects"
   ]
  },
  {
   "cell_type": "markdown",
   "id": "5cad7f75-97f9-4ce9-8e12-dd64f43fc43a",
   "metadata": {},
   "source": [
    "For later reference, we want to extract the eigenvectors, which are the columns of $Q$. The command `Q[:,i]` will extract column `i`, but it will extract it as a row vector, so we also need to reshape it as a column. We do this as follows:"
   ]
  },
  {
   "cell_type": "code",
   "execution_count": 8,
   "id": "fa9a0ac4-7bf5-4264-8709-4ca69d3b6ee7",
   "metadata": {},
   "outputs": [],
   "source": [
    "q1 = Q[:,0].reshape(3,1)\n",
    "q2 = Q[:,1].reshape(3,1)\n",
    "q3 = Q[:,2].reshape(3,1)"
   ]
  },
  {
   "cell_type": "markdown",
   "id": "0a57544f-09a2-4938-bb7f-8c596b2adb70",
   "metadata": {},
   "source": [
    "Next, we want to construct the matrix $P$. The columns of $P$ are eigenvectors of $AA^T$, so we proceed as above."
   ]
  },
  {
   "cell_type": "code",
   "execution_count": 9,
   "id": "24598263-a5a4-4aac-86b0-12287c7f026c",
   "metadata": {},
   "outputs": [],
   "source": [
    "C = A@(A.T)\n",
    "Ceval,Cevec = la.eig(C)"
   ]
  },
  {
   "cell_type": "code",
   "execution_count": 10,
   "id": "b5d33199-084a-4838-984c-ed4beb853c06",
   "metadata": {},
   "outputs": [
    {
     "name": "stdout",
     "output_type": "stream",
     "text": [
      "[[-0.89442719 -0.4472136 ]\n",
      " [ 0.4472136  -0.89442719]]\n"
     ]
    }
   ],
   "source": [
    "P = Cevec\n",
    "print(P)"
   ]
  },
  {
   "cell_type": "markdown",
   "id": "38b0a595-2f86-4097-aeaf-41fd373de840",
   "metadata": {},
   "source": [
    "Note: we want the columns in order of decreasing eigenvalue, so we had to swap the order of the eigenvectors above.\n",
    "\n",
    "We want to see if this works! We're going to check two things:\n",
    "1. Whether or not $P\\Sigma_AQ^T$ is equal to $A$\n",
    "2. If the results we found here agree with the built in `np.svd` command.\n",
    "\n",
    "First, we need to construct $\\Sigma_A$. Let's just do that by hand."
   ]
  },
  {
   "cell_type": "code",
   "execution_count": 11,
   "id": "061cb1e0-20f3-4204-8138-5932a4132a7d",
   "metadata": {},
   "outputs": [
    {
     "name": "stdout",
     "output_type": "stream",
     "text": [
      "[[2.44948974 0.         0.        ]\n",
      " [0.         1.         0.        ]]\n"
     ]
    }
   ],
   "source": [
    "sigA = np.array([[singvals[0],0,0],[0,singvals[1],0]])\n",
    "print(sigA)"
   ]
  },
  {
   "cell_type": "code",
   "execution_count": 12,
   "id": "cd0cf4a8-449c-4165-bb55-44181e00e458",
   "metadata": {},
   "outputs": [
    {
     "data": {
      "text/plain": [
       "array([[ 0.8,  0.6,  2. ],\n",
       "       [ 0.6, -0.8, -1. ]])"
      ]
     },
     "execution_count": 12,
     "metadata": {},
     "output_type": "execute_result"
    }
   ],
   "source": [
    "P@sigA@Q.T"
   ]
  },
  {
   "cell_type": "markdown",
   "id": "9b598608-0b3c-4ae3-bfc6-13a5397273dd",
   "metadata": {},
   "source": [
    "It didn't work! Two things could have gone wrong. First, we need to ensure that the order of our eigenvectors for both $P$ and $Q$ is consistent with the decreasing order of singular values. Let's check how the eigenvalues are ordered for $P$."
   ]
  },
  {
   "cell_type": "code",
   "execution_count": 13,
   "id": "1bdf19df-48ef-4309-abda-11ce90b91e1f",
   "metadata": {},
   "outputs": [
    {
     "name": "stdout",
     "output_type": "stream",
     "text": [
      "[1. 6.]\n"
     ]
    }
   ],
   "source": [
    "print(Ceval.real)"
   ]
  },
  {
   "cell_type": "markdown",
   "id": "60f7ddff-9106-4635-8b92-5e1e26f3a401",
   "metadata": {},
   "source": [
    "Oh, dang! Our vectors were in the wrong order! Let's look at the eigenvectors again."
   ]
  },
  {
   "cell_type": "code",
   "execution_count": 14,
   "id": "7177d558-f72d-4ace-ae77-20609ab5c56d",
   "metadata": {},
   "outputs": [
    {
     "name": "stdout",
     "output_type": "stream",
     "text": [
      "[[-0.89442719 -0.4472136 ]\n",
      " [ 0.4472136  -0.89442719]]\n"
     ]
    }
   ],
   "source": [
    "print(Cevec.real)"
   ]
  },
  {
   "cell_type": "markdown",
   "id": "ace23d16-cb80-4a99-9a4f-1ef2ae925650",
   "metadata": {},
   "source": [
    "Can we swap the columns without manually writing out the entries? Swapping rows is easy, so let's try this: transpose, to turn columns into rows, then, swap rows, and then, transpose back."
   ]
  },
  {
   "cell_type": "code",
   "execution_count": 15,
   "id": "840827f5-df22-41e0-ab72-6e5f01a5741d",
   "metadata": {},
   "outputs": [
    {
     "name": "stdout",
     "output_type": "stream",
     "text": [
      "[[-0.4472136  -0.89442719]\n",
      " [-0.89442719  0.4472136 ]]\n"
     ]
    }
   ],
   "source": [
    "Cevec2 = Cevec.T\n",
    "Cevec3 = np.array([Cevec2[1],Cevec2[0]])\n",
    "Cevec4 = Cevec3.T\n",
    "print(Cevec4)"
   ]
  },
  {
   "cell_type": "markdown",
   "id": "1018c60c-7173-40b7-876b-6c245bd7b7d2",
   "metadata": {},
   "source": [
    "Success! Now, let's see if we get back the matrix $A$."
   ]
  },
  {
   "cell_type": "code",
   "execution_count": 16,
   "id": "52b55ba3-d446-437e-81e1-1467d0177d08",
   "metadata": {},
   "outputs": [
    {
     "name": "stdout",
     "output_type": "stream",
     "text": [
      "[[ 1.00000000e+00  9.25669109e-17  1.00000000e+00]\n",
      " [-1.79128377e-16  1.00000000e+00  2.00000000e+00]]\n",
      "[[ 1.  0.  1.]\n",
      " [-0.  1.  2.]]\n"
     ]
    }
   ],
   "source": [
    "P = Cevec4\n",
    "print(P@sigA@Q.T)\n",
    "print(np.round(P@sigA@Q.T))"
   ]
  },
  {
   "cell_type": "markdown",
   "id": "72e2776f-8179-4c3e-a868-459f40b51915",
   "metadata": {},
   "source": [
    "Hooray!!!! It worked! But there is one other thing that could go wrong: each eigenvector is determined only up to sign. Change the signs on one column, and you might not get back your matrix. How can we make sure everything matches up?"
   ]
  },
  {
   "cell_type": "markdown",
   "id": "802d7d69-4bed-4528-9007-b40b16e76de6",
   "metadata": {},
   "source": [
    "### Alternative construction of $P$\n",
    "\n",
    "Following the text by Keith Nicholson, we get the columns of $P$ using the formula\n",
    "$$p_i = \\frac{1}{\\lVert Aq_i\\rVert}q_i,$$\n",
    "where $p_i,q_i$ represent the $i$th columns of $P$ and $Q$, respectively.\n",
    "\n",
    "**Caution**: it could happen that the rank of $A$ is less than the size of $P$. (For example, if $A$ is $m\\times n$ with $m>n$.) When this happens, the matrix $P$ has more columns than the matrix $Q$.\n",
    "The formula above will give us a basis for a subspace, which we then need to extend to a basis of $\\mathbb{R}^m$, and then orthonormalize using Gram-Schmidt. (So you might prefer to just find the eigenvalues of $AA^T$!)\n",
    "\n",
    "Earlier, we turned the eigenvectors of $A^TA$ into column vectors called `q1,q2,q3`. The first two of these correspond to the non-zero singular values. Let's multiply them by $A$, and then normalize."
   ]
  },
  {
   "cell_type": "code",
   "execution_count": 17,
   "id": "1dc3062c-844c-4de6-b166-f4d4648d9a4e",
   "metadata": {},
   "outputs": [
    {
     "name": "stdout",
     "output_type": "stream",
     "text": [
      "[[-1.09544512]\n",
      " [-2.19089023]]\n",
      "[[-0.89442719]\n",
      " [ 0.4472136 ]]\n"
     ]
    }
   ],
   "source": [
    "p1 = A@q1\n",
    "p2 = A@q2\n",
    "print(p1)\n",
    "print(p2)"
   ]
  },
  {
   "cell_type": "code",
   "execution_count": 18,
   "id": "5dcd7379-6648-4449-9beb-8a34c481d085",
   "metadata": {},
   "outputs": [
    {
     "name": "stdout",
     "output_type": "stream",
     "text": [
      "[[-0.4472136 ]\n",
      " [-0.89442719]]\n",
      "[[-0.89442719]\n",
      " [ 0.4472136 ]]\n"
     ]
    }
   ],
   "source": [
    "p1n = (1/np.linalg.norm(p1))*p1\n",
    "p2n = (1/np.linalg.norm(p2))*p2\n",
    "print(p1n)\n",
    "print(p2n)"
   ]
  },
  {
   "cell_type": "markdown",
   "id": "7f1040b7-cdc4-4cf3-b16f-cea101ac696b",
   "metadata": {},
   "source": [
    "We could reshape these into rows, put them into an `np.array`, and then take the transpose.\n",
    "Or, we could take advantage of the `hstack` function:"
   ]
  },
  {
   "cell_type": "code",
   "execution_count": 19,
   "id": "c6c20767-7665-42c7-9237-e34810899a62",
   "metadata": {},
   "outputs": [
    {
     "name": "stdout",
     "output_type": "stream",
     "text": [
      "[[-0.4472136  -0.89442719]\n",
      " [-0.89442719  0.4472136 ]]\n"
     ]
    }
   ],
   "source": [
    "P = np.hstack((p1n,p2n))\n",
    "print(P)"
   ]
  },
  {
   "cell_type": "markdown",
   "id": "2a3e8e3c-a973-49fd-99d5-dd7b12efae77",
   "metadata": {},
   "source": [
    "That's the same matrix $P$ as before!\n",
    "\n",
    "Finally, we should note that there is a built-in function to do this for us in `Numpy`:"
   ]
  },
  {
   "cell_type": "code",
   "execution_count": 21,
   "id": "a20a95ce-9d04-4b90-8dc2-ef37a42804c9",
   "metadata": {},
   "outputs": [
    {
     "name": "stdout",
     "output_type": "stream",
     "text": [
      "[[-0.4472136  -0.89442719]\n",
      " [-0.89442719  0.4472136 ]]\n",
      "[2.44948974 1.        ]\n",
      "[[-1.82574186e-01 -3.65148372e-01 -9.12870929e-01]\n",
      " [-8.94427191e-01  4.47213595e-01  2.62514530e-16]\n",
      " [-4.08248290e-01 -8.16496581e-01  4.08248290e-01]]\n"
     ]
    }
   ],
   "source": [
    "P,S,Q = np.linalg.svd(A)\n",
    "print(P)\n",
    "print(S)\n",
    "print(Q)"
   ]
  },
  {
   "cell_type": "markdown",
   "id": "4a6eb0c4-f1cd-49fd-97a6-d08741fc7c51",
   "metadata": {},
   "source": [
    "That was much less work! (But it's good to know where these things come from.)\n",
    "\n",
    "Note that `S` is just the list of singular values; it is not the matrix $\\Sigma_A$. If you need this matrix, you will still need to construct it."
   ]
  },
  {
   "cell_type": "markdown",
   "id": "1e0a623e-67ac-4103-b8ac-518ba2da2b18",
   "metadata": {},
   "source": [
    "## 2. Try it yourself!\n",
    "\n",
    "Using `np.linalg.svd`, find the singular value decomposition of the matrix\n",
    "$$A = \\begin{bmatrix}2&-2\\\\1&-1\\\\-1&1\\end{bmatrix}.$$\n",
    "\n",
    "Your matrices should be given the following names:\n",
    "- `A` for the original matrix\n",
    "- `P`, `S`, `Q` for the output of `np.linalg.svd`\n",
    "- `sigA` for the matrix of singular values"
   ]
  },
  {
   "cell_type": "code",
   "execution_count": 22,
   "id": "3ba78e1c-e8aa-43c6-acfb-87f4b15ae15a",
   "metadata": {},
   "outputs": [],
   "source": [
    "### BEGIN SOLUTION\n",
    "A = np.array([[2,-2],[1,-1],[-1,1]])\n",
    "### END SOLUTION"
   ]
  },
  {
   "cell_type": "code",
   "execution_count": 23,
   "id": "2bf67277-bfd1-4c3b-9eb5-1177f7981b71",
   "metadata": {},
   "outputs": [
    {
     "data": {
      "text/plain": [
       "'Enter the matrix A'"
      ]
     },
     "execution_count": 23,
     "metadata": {},
     "output_type": "execute_result"
    }
   ],
   "source": [
    "\"Enter the matrix A (1 mark)\"\n",
    "assert isinstance(A,np.ndarray), \"A should be a NumPy array\"\n",
    "assert A.shape == (3,2), \"A should be a 3 by 2 matrix\"\n",
    "print(\"You entered a matrix of the correct size!\")"
   ]
  },
  {
   "cell_type": "code",
   "execution_count": 25,
   "id": "a9cfcf40-b684-4fea-b78d-9e55c3fff03d",
   "metadata": {},
   "outputs": [],
   "source": [
    "### BEGIN SOLUTION\n",
    "P,S,Q = np.linalg.svd(A)\n",
    "### END SOLUTION"
   ]
  },
  {
   "cell_type": "code",
   "execution_count": 27,
   "id": "166cccf1-6de3-4037-813b-bd04bf3ed3d3",
   "metadata": {},
   "outputs": [
    {
     "name": "stdout",
     "output_type": "stream",
     "text": [
      "Success!\n"
     ]
    }
   ],
   "source": [
    "\"Compute the SVD using NumPy (1 mark)\"\n",
    "assert isinstance(P,np.ndarray), \"P should be a NumPy array\"\n",
    "assert P.shape == (3,3), \"P should be 3 by 3\"\n",
    "assert isinstance(Q,np.ndarray), \"Q should be a NumPy array\"\n",
    "assert Q.shape == (2,2), \"Q should be 2 by 2\"\n",
    "print(\"Success!\")"
   ]
  },
  {
   "cell_type": "code",
   "execution_count": 28,
   "id": "c0484342-82b2-4a35-bd34-6fe9b030203c",
   "metadata": {},
   "outputs": [
    {
     "name": "stdout",
     "output_type": "stream",
     "text": [
      "[3.46410162e+00 3.72077957e-17]\n"
     ]
    }
   ],
   "source": [
    "### BEGIN SOLUTION\n",
    "print(S)\n",
    "### END SOLUTION"
   ]
  },
  {
   "cell_type": "code",
   "execution_count": 30,
   "id": "02a0074d-495f-4098-b917-93e452f9d8fc",
   "metadata": {},
   "outputs": [],
   "source": [
    "### BEGIN SOLUTION\n",
    "sigA = np.array([[S[0],0],[0,0],[0,0]])\n",
    "### END SOLUTION"
   ]
  },
  {
   "cell_type": "code",
   "execution_count": 32,
   "id": "60124b81-4c45-4aab-99bd-576d11d9b8e1",
   "metadata": {},
   "outputs": [],
   "source": [
    "\"Construct the matrix sigA (1 mark)\"\n",
    "assert isinstance(sigA,np.ndarray), \"sigA should be a NumPy array\"\n",
    "assert sigA.shape == (3,2), \"sigA should be 3 by 2\"\n",
    "assert sigA[0,0] == S[0], \"first entry should be the nonzero singular value\"\n",
    "print(\"Success\")"
   ]
  },
  {
   "cell_type": "code",
   "execution_count": 33,
   "id": "88bc0100-3aa2-499b-97b4-50ee93a135ca",
   "metadata": {},
   "outputs": [
    {
     "name": "stdout",
     "output_type": "stream",
     "text": [
      "[[ 2. -2.]\n",
      " [ 1. -1.]\n",
      " [-1.  1.]]\n"
     ]
    }
   ],
   "source": [
    "### BEGIN SOLUTION\n",
    "A2 = np.round(P@sigA@Q.T)\n",
    "print(A2)\n",
    "### END SOLUTION"
   ]
  },
  {
   "cell_type": "code",
   "execution_count": 36,
   "id": "8cc7501b-91f7-4c5e-b6da-103b257c6b5b",
   "metadata": {},
   "outputs": [
    {
     "name": "stdout",
     "output_type": "stream",
     "text": [
      "You did it!\n"
     ]
    }
   ],
   "source": [
    "\"Check that we get back the original matrix (1 mark)\"\n",
    "assert np.round(P@sigA@Q.T).all() == A.all(), \"these should match\"\n",
    "print(\"You did it!\")"
   ]
  },
  {
   "cell_type": "markdown",
   "id": "2fde75d7-e06a-4047-8f7a-2262fae33ad1",
   "metadata": {},
   "source": [
    "## 3. Rank, and fundamental subspaces\n",
    "\n",
    "In your first course in linear algebra, the rank of a matrix $A$ was defined as the number of leading ones in the reduced row-echelon form of $A$.\n",
    "\n",
    "With SVD, we can give a more robust defintion of rank:\n",
    "\n",
    "**Definition**: the *rank* of a matrix $A$ is the number of nonzero singular values of $A$.\n",
    "\n",
    "There are also four \"fundamental\" subspaces associated with any matrix $A$:\n",
    "\n",
    "1. The nullspace of $A$\n",
    "2. The column space of $A$\n",
    "3. The row space of $A$\n",
    "4. The nullspace of $A^T$\n",
    "\n",
    "These can be obtained from the SVD as follows:\n",
    "\n",
    "Suppose the rank of $A$ is $r$. Then:\n",
    "- The column space of $A$ is spanned by the first $r$ columns of $P$\n",
    "- The remaining columns of $P$ give an orthonormal basis for the nullspace of $A^T$\n",
    "- The first $r$ columns of $Q$ give an orthonormal basis for the row space of $A$\n",
    "- The remaining columns of $Q$ give an orthonormal basis for the nullspace of $A$\n",
    "\n",
    "### Part (a): determine the rank of the matrix $A$ from Question 2\n",
    "\n",
    "Since NumPy uses floating point calculations, we need to treat any sufficiently small number as zero.\n",
    "\n",
    "Below is a short program to count the number of nonzero singular values. Use this to determine the rank of $A$, and then enter the value of the rank. Use `r` as the name of the rank."
   ]
  },
  {
   "cell_type": "code",
   "execution_count": 41,
   "id": "a686aa1c-22b0-4432-8920-d7a23c00770f",
   "metadata": {},
   "outputs": [
    {
     "name": "stdout",
     "output_type": "stream",
     "text": [
      "1\n"
     ]
    }
   ],
   "source": [
    "r = 0\n",
    "for s in S:\n",
    "    if np.abs(s) > 1e-5:\n",
    "        r = r+1\n",
    "    else:\n",
    "        r = r\n",
    "print(r)"
   ]
  },
  {
   "cell_type": "code",
   "execution_count": 42,
   "id": "bfab486f-e18e-4b95-8a93-551ff4b897c7",
   "metadata": {},
   "outputs": [],
   "source": [
    "### BEGIN SOLUTION\n",
    "r = 1\n",
    "### END SOLUTION"
   ]
  },
  {
   "cell_type": "code",
   "execution_count": 43,
   "id": "5265988a-6c22-4d21-b894-5e96817ed4b0",
   "metadata": {},
   "outputs": [
    {
     "name": "stdout",
     "output_type": "stream",
     "text": [
      "Hoorary!\n"
     ]
    }
   ],
   "source": [
    "\"Check that the rank is correct\"\n",
    "assert r == 1, \"The rank should be 1\"\n",
    "print(\"Hoorary!\")"
   ]
  },
  {
   "cell_type": "markdown",
   "id": "04426ecf-9b04-4d3b-9d47-81ea394a2291",
   "metadata": {},
   "source": [
    "### Part (b): Determine the column space of $A$\n",
    "\n",
    "Enter the vectors that form a basis for the column space of $A$. Name these `p1`, `p2`, etc.\n",
    "\n",
    "You can leave each vector as a NumPy `array` (you don't need to reshape as a column vector)."
   ]
  },
  {
   "cell_type": "code",
   "execution_count": 45,
   "id": "3aae591e-3214-4715-97d5-4fa4243616ce",
   "metadata": {},
   "outputs": [
    {
     "name": "stdout",
     "output_type": "stream",
     "text": [
      "[-0.81649658 -0.40824829  0.40824829]\n"
     ]
    }
   ],
   "source": [
    "### BEGIN SOLUTION\n",
    "p1 = P[:,0]\n",
    "print(p1)\n",
    "### END SOLUTION"
   ]
  },
  {
   "cell_type": "code",
   "execution_count": 47,
   "id": "a38ac71b-735e-470e-be1c-f57935212495",
   "metadata": {},
   "outputs": [
    {
     "name": "stdout",
     "output_type": "stream",
     "text": [
      "correct!\n"
     ]
    }
   ],
   "source": [
    "\"Check the column space basis\"\n",
    "assert isinstance(p1,np.ndarray), \"p1 should be a NumPy array\"\n",
    "assert p1.all() == P[:,0].all(), \"p1 should be the first column of P\"\n",
    "print(\"correct!\")"
   ]
  },
  {
   "cell_type": "markdown",
   "id": "15f8a095-c343-4364-96e0-f491de1cff48",
   "metadata": {},
   "source": [
    "### Part (c) Determine the nullspace of $A$\n",
    "\n",
    "Enter the vectors that form a basis for the nullspace of $A$. Name these `q1, q2`, etc.\n",
    "\n",
    "You can leave each vector as a NumPy `array` (you don't need to reshape as a column vector)."
   ]
  },
  {
   "cell_type": "code",
   "execution_count": 49,
   "id": "283bd813-3a81-479d-9078-559cff3b1c79",
   "metadata": {},
   "outputs": [],
   "source": [
    "### BEGIN SOLUTION\n",
    "q1 = Q[:,1]\n",
    "### END SOLUTION"
   ]
  },
  {
   "cell_type": "code",
   "execution_count": 50,
   "id": "efe1f13f-c7d8-47f1-a75c-c036839e9392",
   "metadata": {},
   "outputs": [
    {
     "name": "stdout",
     "output_type": "stream",
     "text": [
      "correct!\n"
     ]
    }
   ],
   "source": [
    "\"Check the nullspace basis\"\n",
    "assert isinstance(q1,np.ndarray), \"q1 should be a NumPy array\"\n",
    "assert q1.all() == Q[:,1].all(), \"q1 should be the first column of Q\"\n",
    "print(\"correct!\")"
   ]
  },
  {
   "cell_type": "code",
   "execution_count": null,
   "id": "6eeff161-b348-444e-bb75-1cc3f91a9352",
   "metadata": {},
   "outputs": [],
   "source": []
  }
 ],
 "metadata": {
  "kernelspec": {
   "display_name": "Python 3 (ipykernel)",
   "language": "python",
   "name": "python3"
  },
  "language_info": {
   "codemirror_mode": {
    "name": "ipython",
    "version": 3
   },
   "file_extension": ".py",
   "mimetype": "text/x-python",
   "name": "python",
   "nbconvert_exporter": "python",
   "pygments_lexer": "ipython3",
   "version": "3.12.8"
  }
 },
 "nbformat": 4,
 "nbformat_minor": 5
}
